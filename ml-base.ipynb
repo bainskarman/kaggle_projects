{
 "cells": [
  {
   "cell_type": "code",
   "execution_count": 1,
   "id": "f68c1911",
   "metadata": {
    "_cell_guid": "b1076dfc-b9ad-4769-8c92-a6c4dae69d19",
    "_uuid": "8f2839f25d086af736a60e9eeb907d3b93b6e0e5",
    "execution": {
     "iopub.execute_input": "2023-11-30T06:46:41.427874Z",
     "iopub.status.busy": "2023-11-30T06:46:41.427660Z",
     "iopub.status.idle": "2023-11-30T06:46:42.802963Z",
     "shell.execute_reply": "2023-11-30T06:46:42.802301Z"
    },
    "papermill": {
     "duration": 1.385382,
     "end_time": "2023-11-30T06:46:42.804691",
     "exception": false,
     "start_time": "2023-11-30T06:46:41.419309",
     "status": "completed"
    },
    "tags": []
   },
   "outputs": [
    {
     "name": "stdout",
     "output_type": "stream",
     "text": [
      "/kaggle/input/playground-series-s3e25/sample_submission.csv\n",
      "/kaggle/input/playground-series-s3e25/train.csv\n",
      "/kaggle/input/playground-series-s3e25/test.csv\n"
     ]
    }
   ],
   "source": [
    "# This Python 3 environment comes with many helpful analytics libraries installed\n",
    "# It is defined by the kaggle/python Docker image: https://github.com/kaggle/docker-python\n",
    "# For example, here's several helpful packages to load\n",
    "\n",
    "import numpy as np # linear algebra\n",
    "import pandas as pd # data processing, CSV file I/O (e.g. pd.read_csv)\n",
    "\n",
    "# Input data files are available in the read-only \"../input/\" directory\n",
    "# For example, running this (by clicking run or pressing Shift+Enter) will list all files under the input directory\n",
    "\n",
    "import os\n",
    "for dirname, _, filenames in os.walk('/kaggle/input'):\n",
    "    for filename in filenames:\n",
    "        print(os.path.join(dirname, filename))\n",
    "\n",
    "# You can write up to 20GB to the current directory (/kaggle/working/) that gets preserved as output when you create a version using \"Save & Run All\" \n",
    "# You can also write temporary files to /kaggle/temp/, but they won't be saved outside of the current session"
   ]
  },
  {
   "cell_type": "code",
   "execution_count": 2,
   "id": "f0981dbb",
   "metadata": {
    "execution": {
     "iopub.execute_input": "2023-11-30T06:46:42.820422Z",
     "iopub.status.busy": "2023-11-30T06:46:42.820125Z",
     "iopub.status.idle": "2023-11-30T06:46:42.823481Z",
     "shell.execute_reply": "2023-11-30T06:46:42.822913Z"
    },
    "papermill": {
     "duration": 0.012562,
     "end_time": "2023-11-30T06:46:42.825044",
     "exception": false,
     "start_time": "2023-11-30T06:46:42.812482",
     "status": "completed"
    },
    "tags": []
   },
   "outputs": [],
   "source": [
    "import warnings\n",
    "warnings.filterwarnings(\"ignore\")"
   ]
  },
  {
   "cell_type": "code",
   "execution_count": 3,
   "id": "c15d5bee",
   "metadata": {
    "execution": {
     "iopub.execute_input": "2023-11-30T06:46:42.839295Z",
     "iopub.status.busy": "2023-11-30T06:46:42.839071Z",
     "iopub.status.idle": "2023-11-30T06:46:42.913334Z",
     "shell.execute_reply": "2023-11-30T06:46:42.912719Z"
    },
    "papermill": {
     "duration": 0.083694,
     "end_time": "2023-11-30T06:46:42.915226",
     "exception": false,
     "start_time": "2023-11-30T06:46:42.831532",
     "status": "completed"
    },
    "tags": []
   },
   "outputs": [],
   "source": [
    "df = pd.read_csv(\"/kaggle/input/playground-series-s3e25/train.csv\").drop(columns=\"id\")\n",
    "test = pd.read_csv(\"/kaggle/input/playground-series-s3e25/test.csv\").drop(columns=\"id\")\n",
    "submission= pd.read_csv(\"/kaggle/input/playground-series-s3e25/sample_submission.csv\")"
   ]
  },
  {
   "cell_type": "code",
   "execution_count": 4,
   "id": "955608f6",
   "metadata": {
    "execution": {
     "iopub.execute_input": "2023-11-30T06:46:42.929457Z",
     "iopub.status.busy": "2023-11-30T06:46:42.929237Z",
     "iopub.status.idle": "2023-11-30T06:46:42.937496Z",
     "shell.execute_reply": "2023-11-30T06:46:42.936864Z"
    },
    "papermill": {
     "duration": 0.017252,
     "end_time": "2023-11-30T06:46:42.939097",
     "exception": false,
     "start_time": "2023-11-30T06:46:42.921845",
     "status": "completed"
    },
    "tags": []
   },
   "outputs": [
    {
     "data": {
      "text/plain": [
       "['allelectrons_Total',\n",
       " 'density_Total',\n",
       " 'allelectrons_Average',\n",
       " 'val_e_Average',\n",
       " 'atomicweight_Average',\n",
       " 'ionenergy_Average',\n",
       " 'el_neg_chi_Average',\n",
       " 'R_vdw_element_Average',\n",
       " 'R_cov_element_Average',\n",
       " 'zaratio_Average',\n",
       " 'density_Average',\n",
       " 'Hardness']"
      ]
     },
     "execution_count": 4,
     "metadata": {},
     "output_type": "execute_result"
    }
   ],
   "source": [
    "categorical = df.select_dtypes(include='object').columns.to_list()\n",
    "numerical = df.select_dtypes(include=['int64','float64']).columns.to_list()\n",
    "numerical"
   ]
  },
  {
   "cell_type": "markdown",
   "id": "c83db649",
   "metadata": {
    "papermill": {
     "duration": 0.006456,
     "end_time": "2023-11-30T06:46:42.952041",
     "exception": false,
     "start_time": "2023-11-30T06:46:42.945585",
     "status": "completed"
    },
    "tags": []
   },
   "source": [
    "## Pre Inspection"
   ]
  },
  {
   "cell_type": "code",
   "execution_count": 5,
   "id": "9229d7ea",
   "metadata": {
    "execution": {
     "iopub.execute_input": "2023-11-30T06:46:42.966062Z",
     "iopub.status.busy": "2023-11-30T06:46:42.965810Z",
     "iopub.status.idle": "2023-11-30T06:46:47.490903Z",
     "shell.execute_reply": "2023-11-30T06:46:47.490118Z"
    },
    "papermill": {
     "duration": 4.534071,
     "end_time": "2023-11-30T06:46:47.492696",
     "exception": false,
     "start_time": "2023-11-30T06:46:42.958625",
     "status": "completed"
    },
    "tags": []
   },
   "outputs": [
    {
     "name": "stdout",
     "output_type": "stream",
     "text": [
      "Collecting seaborn\r\n",
      "  Downloading seaborn-0.13.0-py3-none-any.whl (294 kB)\r\n",
      "\u001b[2K     \u001b[90m━━━━━━━━━━━━━━━━━━━━━━━━━━━━━━━━━━━━━━━\u001b[0m \u001b[32m294.6/294.6 kB\u001b[0m \u001b[31m4.5 MB/s\u001b[0m eta \u001b[36m0:00:00\u001b[0m\r\n",
      "\u001b[?25hRequirement already satisfied: numpy!=1.24.0,>=1.20 in /usr/local/lib/python3.10/site-packages (from seaborn) (1.26.1)\r\n",
      "Requirement already satisfied: matplotlib!=3.6.1,>=3.3 in /usr/local/lib/python3.10/site-packages (from seaborn) (3.8.1)\r\n",
      "Requirement already satisfied: pandas>=1.2 in /usr/local/lib/python3.10/site-packages (from seaborn) (2.1.3)\r\n",
      "Requirement already satisfied: packaging>=20.0 in /usr/local/lib/python3.10/site-packages (from matplotlib!=3.6.1,>=3.3->seaborn) (23.2)\r\n",
      "Requirement already satisfied: pillow>=8 in /usr/local/lib/python3.10/site-packages (from matplotlib!=3.6.1,>=3.3->seaborn) (10.1.0)\r\n",
      "Requirement already satisfied: pyparsing>=2.3.1 in /usr/local/lib/python3.10/site-packages (from matplotlib!=3.6.1,>=3.3->seaborn) (3.1.1)\r\n",
      "Requirement already satisfied: python-dateutil>=2.7 in /usr/local/lib/python3.10/site-packages (from matplotlib!=3.6.1,>=3.3->seaborn) (2.8.2)\r\n",
      "Requirement already satisfied: kiwisolver>=1.3.1 in /usr/local/lib/python3.10/site-packages (from matplotlib!=3.6.1,>=3.3->seaborn) (1.4.5)\r\n",
      "Requirement already satisfied: fonttools>=4.22.0 in /usr/local/lib/python3.10/site-packages (from matplotlib!=3.6.1,>=3.3->seaborn) (4.44.0)\r\n",
      "Requirement already satisfied: cycler>=0.10 in /usr/local/lib/python3.10/site-packages (from matplotlib!=3.6.1,>=3.3->seaborn) (0.12.1)\r\n",
      "Requirement already satisfied: contourpy>=1.0.1 in /usr/local/lib/python3.10/site-packages (from matplotlib!=3.6.1,>=3.3->seaborn) (1.2.0)\r\n",
      "Requirement already satisfied: pytz>=2020.1 in /usr/local/lib/python3.10/site-packages (from pandas>=1.2->seaborn) (2023.3.post1)\r\n",
      "Requirement already satisfied: tzdata>=2022.1 in /usr/local/lib/python3.10/site-packages (from pandas>=1.2->seaborn) (2023.3)\r\n",
      "Requirement already satisfied: six>=1.5 in /usr/local/lib/python3.10/site-packages (from python-dateutil>=2.7->matplotlib!=3.6.1,>=3.3->seaborn) (1.16.0)\r\n",
      "Installing collected packages: seaborn\r\n",
      "Successfully installed seaborn-0.13.0\r\n",
      "\u001b[33mWARNING: Running pip as the 'root' user can result in broken permissions and conflicting behaviour with the system package manager. It is recommended to use a virtual environment instead: https://pip.pypa.io/warnings/venv\u001b[0m\u001b[33m\r\n",
      "\u001b[0m\r\n",
      "\u001b[1m[\u001b[0m\u001b[34;49mnotice\u001b[0m\u001b[1;39;49m]\u001b[0m\u001b[39;49m A new release of pip is available: \u001b[0m\u001b[31;49m23.0.1\u001b[0m\u001b[39;49m -> \u001b[0m\u001b[32;49m23.3.1\u001b[0m\r\n",
      "\u001b[1m[\u001b[0m\u001b[34;49mnotice\u001b[0m\u001b[1;39;49m]\u001b[0m\u001b[39;49m To update, run: \u001b[0m\u001b[32;49mpip install --upgrade pip\u001b[0m\r\n",
      "Note: you may need to restart the kernel to use updated packages.\n"
     ]
    }
   ],
   "source": [
    "pip install seaborn"
   ]
  },
  {
   "cell_type": "code",
   "execution_count": 6,
   "id": "c02c047a",
   "metadata": {
    "execution": {
     "iopub.execute_input": "2023-11-30T06:46:47.508849Z",
     "iopub.status.busy": "2023-11-30T06:46:47.508598Z",
     "iopub.status.idle": "2023-11-30T06:46:50.274124Z",
     "shell.execute_reply": "2023-11-30T06:46:50.272972Z"
    },
    "papermill": {
     "duration": 2.776623,
     "end_time": "2023-11-30T06:46:50.276731",
     "exception": false,
     "start_time": "2023-11-30T06:46:47.500108",
     "status": "completed"
    },
    "tags": []
   },
   "outputs": [],
   "source": [
    "from IPython.display import display\n",
    "import matplotlib.pyplot as plt\n",
    "import seaborn as sns"
   ]
  },
  {
   "cell_type": "code",
   "execution_count": 7,
   "id": "0b543449",
   "metadata": {
    "execution": {
     "iopub.execute_input": "2023-11-30T06:46:50.293537Z",
     "iopub.status.busy": "2023-11-30T06:46:50.292543Z",
     "iopub.status.idle": "2023-11-30T06:46:50.301079Z",
     "shell.execute_reply": "2023-11-30T06:46:50.300298Z"
    },
    "papermill": {
     "duration": 0.018856,
     "end_time": "2023-11-30T06:46:50.302891",
     "exception": false,
     "start_time": "2023-11-30T06:46:50.284035",
     "status": "completed"
    },
    "tags": []
   },
   "outputs": [],
   "source": [
    "def inspection(data):\n",
    "    print(\"Shape of dataset: \",data.shape)\n",
    "    print(\"\\n Top 5 rows of dataset :\")\n",
    "    display(data.head())\n",
    "    print(\"\\n Description of Dataset:\")\n",
    "    display(data.describe().T)\n",
    "    print(\"\\n Information of Dataset:\")\n",
    "    display(pd.DataFrame(data.info(),columns=['Info']))\n",
    "    print(\"\\nDataset Data Types:\")\n",
    "    display(pd.DataFrame(data.dtypes, columns=['Data Type']))\n",
    "    print(\"\\n Description of Dataset:\")\n",
    "    display(data.describe())\n",
    "    print(\"\\nPercentage of Missing Values:\")\n",
    "    display(pd.DataFrame(data.isnull().mean()*100, columns=['Missing Values']))\n",
    "    print(\"\\nDuplicated Rows:\")\n",
    "    duplicated_rows= data[data.duplicated()]\n",
    "    if duplicated_rows.empty:\n",
    "        print('\\nNo Duplicates')\n",
    "    else:\n",
    "        display(duplicated_rows)\n",
    "        data.drop(duplicated_rows.index, axis=0,inplace=True)\n",
    "    print(\"\\nCategorical Columns:\")\n",
    "    categorical = data.select_dtypes(include='object').columns\n",
    "    if len(categorical)==0:\n",
    "        print(\"\\nNo Categorical Columns\")\n",
    "    else:\n",
    "        for i in categorical:\n",
    "            unique = data[i].unique()\n",
    "            unique_df = pd.DataFrame({i:unique})\n",
    "            display(unique_df)"
   ]
  },
  {
   "cell_type": "code",
   "execution_count": 8,
   "id": "a983cc20",
   "metadata": {
    "execution": {
     "iopub.execute_input": "2023-11-30T06:46:50.318665Z",
     "iopub.status.busy": "2023-11-30T06:46:50.318420Z",
     "iopub.status.idle": "2023-11-30T06:46:50.419273Z",
     "shell.execute_reply": "2023-11-30T06:46:50.418373Z"
    },
    "papermill": {
     "duration": 0.110915,
     "end_time": "2023-11-30T06:46:50.421095",
     "exception": false,
     "start_time": "2023-11-30T06:46:50.310180",
     "status": "completed"
    },
    "tags": []
   },
   "outputs": [
    {
     "name": "stdout",
     "output_type": "stream",
     "text": [
      "Shape of dataset:  (10407, 12)\n",
      "\n",
      " Top 5 rows of dataset :\n"
     ]
    },
    {
     "data": {
      "text/html": [
       "<div>\n",
       "<style scoped>\n",
       "    .dataframe tbody tr th:only-of-type {\n",
       "        vertical-align: middle;\n",
       "    }\n",
       "\n",
       "    .dataframe tbody tr th {\n",
       "        vertical-align: top;\n",
       "    }\n",
       "\n",
       "    .dataframe thead th {\n",
       "        text-align: right;\n",
       "    }\n",
       "</style>\n",
       "<table border=\"1\" class=\"dataframe\">\n",
       "  <thead>\n",
       "    <tr style=\"text-align: right;\">\n",
       "      <th></th>\n",
       "      <th>allelectrons_Total</th>\n",
       "      <th>density_Total</th>\n",
       "      <th>allelectrons_Average</th>\n",
       "      <th>val_e_Average</th>\n",
       "      <th>atomicweight_Average</th>\n",
       "      <th>ionenergy_Average</th>\n",
       "      <th>el_neg_chi_Average</th>\n",
       "      <th>R_vdw_element_Average</th>\n",
       "      <th>R_cov_element_Average</th>\n",
       "      <th>zaratio_Average</th>\n",
       "      <th>density_Average</th>\n",
       "      <th>Hardness</th>\n",
       "    </tr>\n",
       "  </thead>\n",
       "  <tbody>\n",
       "    <tr>\n",
       "      <th>0</th>\n",
       "      <td>100.0</td>\n",
       "      <td>0.841611</td>\n",
       "      <td>10.0</td>\n",
       "      <td>4.8</td>\n",
       "      <td>20.612526</td>\n",
       "      <td>11.08810</td>\n",
       "      <td>2.766</td>\n",
       "      <td>1.732</td>\n",
       "      <td>0.860</td>\n",
       "      <td>0.496070</td>\n",
       "      <td>0.91457</td>\n",
       "      <td>6.0</td>\n",
       "    </tr>\n",
       "    <tr>\n",
       "      <th>1</th>\n",
       "      <td>100.0</td>\n",
       "      <td>7.558488</td>\n",
       "      <td>10.0</td>\n",
       "      <td>4.8</td>\n",
       "      <td>20.298893</td>\n",
       "      <td>12.04083</td>\n",
       "      <td>2.755</td>\n",
       "      <td>1.631</td>\n",
       "      <td>0.910</td>\n",
       "      <td>0.492719</td>\n",
       "      <td>0.71760</td>\n",
       "      <td>6.5</td>\n",
       "    </tr>\n",
       "    <tr>\n",
       "      <th>2</th>\n",
       "      <td>76.0</td>\n",
       "      <td>8.885992</td>\n",
       "      <td>15.6</td>\n",
       "      <td>5.6</td>\n",
       "      <td>33.739258</td>\n",
       "      <td>12.08630</td>\n",
       "      <td>2.828</td>\n",
       "      <td>1.788</td>\n",
       "      <td>0.864</td>\n",
       "      <td>0.481478</td>\n",
       "      <td>1.50633</td>\n",
       "      <td>2.5</td>\n",
       "    </tr>\n",
       "    <tr>\n",
       "      <th>3</th>\n",
       "      <td>100.0</td>\n",
       "      <td>8.795296</td>\n",
       "      <td>10.0</td>\n",
       "      <td>4.8</td>\n",
       "      <td>20.213349</td>\n",
       "      <td>10.94850</td>\n",
       "      <td>2.648</td>\n",
       "      <td>1.626</td>\n",
       "      <td>0.936</td>\n",
       "      <td>0.489272</td>\n",
       "      <td>0.78937</td>\n",
       "      <td>6.0</td>\n",
       "    </tr>\n",
       "    <tr>\n",
       "      <th>4</th>\n",
       "      <td>116.0</td>\n",
       "      <td>9.577996</td>\n",
       "      <td>11.6</td>\n",
       "      <td>4.8</td>\n",
       "      <td>24.988133</td>\n",
       "      <td>11.82448</td>\n",
       "      <td>2.766</td>\n",
       "      <td>1.682</td>\n",
       "      <td>0.896</td>\n",
       "      <td>0.492736</td>\n",
       "      <td>1.86481</td>\n",
       "      <td>6.0</td>\n",
       "    </tr>\n",
       "  </tbody>\n",
       "</table>\n",
       "</div>"
      ],
      "text/plain": [
       "   allelectrons_Total  density_Total  allelectrons_Average  val_e_Average  \\\n",
       "0               100.0       0.841611                  10.0            4.8   \n",
       "1               100.0       7.558488                  10.0            4.8   \n",
       "2                76.0       8.885992                  15.6            5.6   \n",
       "3               100.0       8.795296                  10.0            4.8   \n",
       "4               116.0       9.577996                  11.6            4.8   \n",
       "\n",
       "   atomicweight_Average  ionenergy_Average  el_neg_chi_Average  \\\n",
       "0             20.612526           11.08810               2.766   \n",
       "1             20.298893           12.04083               2.755   \n",
       "2             33.739258           12.08630               2.828   \n",
       "3             20.213349           10.94850               2.648   \n",
       "4             24.988133           11.82448               2.766   \n",
       "\n",
       "   R_vdw_element_Average  R_cov_element_Average  zaratio_Average  \\\n",
       "0                  1.732                  0.860         0.496070   \n",
       "1                  1.631                  0.910         0.492719   \n",
       "2                  1.788                  0.864         0.481478   \n",
       "3                  1.626                  0.936         0.489272   \n",
       "4                  1.682                  0.896         0.492736   \n",
       "\n",
       "   density_Average  Hardness  \n",
       "0          0.91457       6.0  \n",
       "1          0.71760       6.5  \n",
       "2          1.50633       2.5  \n",
       "3          0.78937       6.0  \n",
       "4          1.86481       6.0  "
      ]
     },
     "metadata": {},
     "output_type": "display_data"
    },
    {
     "name": "stdout",
     "output_type": "stream",
     "text": [
      "\n",
      " Description of Dataset:\n"
     ]
    },
    {
     "data": {
      "text/html": [
       "<div>\n",
       "<style scoped>\n",
       "    .dataframe tbody tr th:only-of-type {\n",
       "        vertical-align: middle;\n",
       "    }\n",
       "\n",
       "    .dataframe tbody tr th {\n",
       "        vertical-align: top;\n",
       "    }\n",
       "\n",
       "    .dataframe thead th {\n",
       "        text-align: right;\n",
       "    }\n",
       "</style>\n",
       "<table border=\"1\" class=\"dataframe\">\n",
       "  <thead>\n",
       "    <tr style=\"text-align: right;\">\n",
       "      <th></th>\n",
       "      <th>count</th>\n",
       "      <th>mean</th>\n",
       "      <th>std</th>\n",
       "      <th>min</th>\n",
       "      <th>25%</th>\n",
       "      <th>50%</th>\n",
       "      <th>75%</th>\n",
       "      <th>max</th>\n",
       "    </tr>\n",
       "  </thead>\n",
       "  <tbody>\n",
       "    <tr>\n",
       "      <th>allelectrons_Total</th>\n",
       "      <td>10407.0</td>\n",
       "      <td>128.053516</td>\n",
       "      <td>224.123776</td>\n",
       "      <td>0.0</td>\n",
       "      <td>68.000000</td>\n",
       "      <td>100.000000</td>\n",
       "      <td>131.000000</td>\n",
       "      <td>15300.000000</td>\n",
       "    </tr>\n",
       "    <tr>\n",
       "      <th>density_Total</th>\n",
       "      <td>10407.0</td>\n",
       "      <td>14.491342</td>\n",
       "      <td>15.972877</td>\n",
       "      <td>0.0</td>\n",
       "      <td>7.558488</td>\n",
       "      <td>10.650000</td>\n",
       "      <td>16.676996</td>\n",
       "      <td>643.093804</td>\n",
       "    </tr>\n",
       "    <tr>\n",
       "      <th>allelectrons_Average</th>\n",
       "      <td>10407.0</td>\n",
       "      <td>17.033222</td>\n",
       "      <td>10.468734</td>\n",
       "      <td>0.0</td>\n",
       "      <td>10.000000</td>\n",
       "      <td>12.600000</td>\n",
       "      <td>22.000000</td>\n",
       "      <td>67.000000</td>\n",
       "    </tr>\n",
       "    <tr>\n",
       "      <th>val_e_Average</th>\n",
       "      <td>10407.0</td>\n",
       "      <td>4.546789</td>\n",
       "      <td>0.690864</td>\n",
       "      <td>0.0</td>\n",
       "      <td>4.000000</td>\n",
       "      <td>4.714286</td>\n",
       "      <td>4.800000</td>\n",
       "      <td>6.000000</td>\n",
       "    </tr>\n",
       "    <tr>\n",
       "      <th>atomicweight_Average</th>\n",
       "      <td>10407.0</td>\n",
       "      <td>37.507703</td>\n",
       "      <td>26.012313</td>\n",
       "      <td>0.0</td>\n",
       "      <td>20.298893</td>\n",
       "      <td>26.203827</td>\n",
       "      <td>48.719500</td>\n",
       "      <td>167.400000</td>\n",
       "    </tr>\n",
       "    <tr>\n",
       "      <th>ionenergy_Average</th>\n",
       "      <td>10407.0</td>\n",
       "      <td>10.938308</td>\n",
       "      <td>1.408276</td>\n",
       "      <td>0.0</td>\n",
       "      <td>10.590660</td>\n",
       "      <td>11.202760</td>\n",
       "      <td>11.670725</td>\n",
       "      <td>15.245810</td>\n",
       "    </tr>\n",
       "    <tr>\n",
       "      <th>el_neg_chi_Average</th>\n",
       "      <td>10407.0</td>\n",
       "      <td>2.607662</td>\n",
       "      <td>0.334906</td>\n",
       "      <td>0.0</td>\n",
       "      <td>2.530000</td>\n",
       "      <td>2.706000</td>\n",
       "      <td>2.805000</td>\n",
       "      <td>3.443000</td>\n",
       "    </tr>\n",
       "    <tr>\n",
       "      <th>R_vdw_element_Average</th>\n",
       "      <td>10407.0</td>\n",
       "      <td>1.731330</td>\n",
       "      <td>0.192481</td>\n",
       "      <td>0.0</td>\n",
       "      <td>1.672500</td>\n",
       "      <td>1.732727</td>\n",
       "      <td>1.800000</td>\n",
       "      <td>2.250000</td>\n",
       "    </tr>\n",
       "    <tr>\n",
       "      <th>R_cov_element_Average</th>\n",
       "      <td>10407.0</td>\n",
       "      <td>0.944132</td>\n",
       "      <td>0.180017</td>\n",
       "      <td>0.0</td>\n",
       "      <td>0.864000</td>\n",
       "      <td>0.915556</td>\n",
       "      <td>0.981667</td>\n",
       "      <td>1.615840</td>\n",
       "    </tr>\n",
       "    <tr>\n",
       "      <th>zaratio_Average</th>\n",
       "      <td>10407.0</td>\n",
       "      <td>0.493349</td>\n",
       "      <td>0.063080</td>\n",
       "      <td>0.0</td>\n",
       "      <td>0.476196</td>\n",
       "      <td>0.488550</td>\n",
       "      <td>0.496070</td>\n",
       "      <td>0.825990</td>\n",
       "    </tr>\n",
       "    <tr>\n",
       "      <th>density_Average</th>\n",
       "      <td>10407.0</td>\n",
       "      <td>2.132984</td>\n",
       "      <td>1.936656</td>\n",
       "      <td>0.0</td>\n",
       "      <td>0.814800</td>\n",
       "      <td>1.351550</td>\n",
       "      <td>2.741550</td>\n",
       "      <td>10.970000</td>\n",
       "    </tr>\n",
       "    <tr>\n",
       "      <th>Hardness</th>\n",
       "      <td>10407.0</td>\n",
       "      <td>4.647126</td>\n",
       "      <td>1.680525</td>\n",
       "      <td>1.0</td>\n",
       "      <td>3.000000</td>\n",
       "      <td>5.500000</td>\n",
       "      <td>6.000000</td>\n",
       "      <td>10.000000</td>\n",
       "    </tr>\n",
       "  </tbody>\n",
       "</table>\n",
       "</div>"
      ],
      "text/plain": [
       "                         count        mean         std  min        25%  \\\n",
       "allelectrons_Total     10407.0  128.053516  224.123776  0.0  68.000000   \n",
       "density_Total          10407.0   14.491342   15.972877  0.0   7.558488   \n",
       "allelectrons_Average   10407.0   17.033222   10.468734  0.0  10.000000   \n",
       "val_e_Average          10407.0    4.546789    0.690864  0.0   4.000000   \n",
       "atomicweight_Average   10407.0   37.507703   26.012313  0.0  20.298893   \n",
       "ionenergy_Average      10407.0   10.938308    1.408276  0.0  10.590660   \n",
       "el_neg_chi_Average     10407.0    2.607662    0.334906  0.0   2.530000   \n",
       "R_vdw_element_Average  10407.0    1.731330    0.192481  0.0   1.672500   \n",
       "R_cov_element_Average  10407.0    0.944132    0.180017  0.0   0.864000   \n",
       "zaratio_Average        10407.0    0.493349    0.063080  0.0   0.476196   \n",
       "density_Average        10407.0    2.132984    1.936656  0.0   0.814800   \n",
       "Hardness               10407.0    4.647126    1.680525  1.0   3.000000   \n",
       "\n",
       "                              50%         75%           max  \n",
       "allelectrons_Total     100.000000  131.000000  15300.000000  \n",
       "density_Total           10.650000   16.676996    643.093804  \n",
       "allelectrons_Average    12.600000   22.000000     67.000000  \n",
       "val_e_Average            4.714286    4.800000      6.000000  \n",
       "atomicweight_Average    26.203827   48.719500    167.400000  \n",
       "ionenergy_Average       11.202760   11.670725     15.245810  \n",
       "el_neg_chi_Average       2.706000    2.805000      3.443000  \n",
       "R_vdw_element_Average    1.732727    1.800000      2.250000  \n",
       "R_cov_element_Average    0.915556    0.981667      1.615840  \n",
       "zaratio_Average          0.488550    0.496070      0.825990  \n",
       "density_Average          1.351550    2.741550     10.970000  \n",
       "Hardness                 5.500000    6.000000     10.000000  "
      ]
     },
     "metadata": {},
     "output_type": "display_data"
    },
    {
     "name": "stdout",
     "output_type": "stream",
     "text": [
      "\n",
      " Information of Dataset:\n",
      "<class 'pandas.core.frame.DataFrame'>\n",
      "RangeIndex: 10407 entries, 0 to 10406\n",
      "Data columns (total 12 columns):\n",
      " #   Column                 Non-Null Count  Dtype  \n",
      "---  ------                 --------------  -----  \n",
      " 0   allelectrons_Total     10407 non-null  float64\n",
      " 1   density_Total          10407 non-null  float64\n",
      " 2   allelectrons_Average   10407 non-null  float64\n",
      " 3   val_e_Average          10407 non-null  float64\n",
      " 4   atomicweight_Average   10407 non-null  float64\n",
      " 5   ionenergy_Average      10407 non-null  float64\n",
      " 6   el_neg_chi_Average     10407 non-null  float64\n",
      " 7   R_vdw_element_Average  10407 non-null  float64\n",
      " 8   R_cov_element_Average  10407 non-null  float64\n",
      " 9   zaratio_Average        10407 non-null  float64\n",
      " 10  density_Average        10407 non-null  float64\n",
      " 11  Hardness               10407 non-null  float64\n",
      "dtypes: float64(12)\n",
      "memory usage: 975.8 KB\n"
     ]
    },
    {
     "data": {
      "text/html": [
       "<div>\n",
       "<style scoped>\n",
       "    .dataframe tbody tr th:only-of-type {\n",
       "        vertical-align: middle;\n",
       "    }\n",
       "\n",
       "    .dataframe tbody tr th {\n",
       "        vertical-align: top;\n",
       "    }\n",
       "\n",
       "    .dataframe thead th {\n",
       "        text-align: right;\n",
       "    }\n",
       "</style>\n",
       "<table border=\"1\" class=\"dataframe\">\n",
       "  <thead>\n",
       "    <tr style=\"text-align: right;\">\n",
       "      <th></th>\n",
       "      <th>Info</th>\n",
       "    </tr>\n",
       "  </thead>\n",
       "  <tbody>\n",
       "  </tbody>\n",
       "</table>\n",
       "</div>"
      ],
      "text/plain": [
       "Empty DataFrame\n",
       "Columns: [Info]\n",
       "Index: []"
      ]
     },
     "metadata": {},
     "output_type": "display_data"
    },
    {
     "name": "stdout",
     "output_type": "stream",
     "text": [
      "\n",
      "Dataset Data Types:\n"
     ]
    },
    {
     "data": {
      "text/html": [
       "<div>\n",
       "<style scoped>\n",
       "    .dataframe tbody tr th:only-of-type {\n",
       "        vertical-align: middle;\n",
       "    }\n",
       "\n",
       "    .dataframe tbody tr th {\n",
       "        vertical-align: top;\n",
       "    }\n",
       "\n",
       "    .dataframe thead th {\n",
       "        text-align: right;\n",
       "    }\n",
       "</style>\n",
       "<table border=\"1\" class=\"dataframe\">\n",
       "  <thead>\n",
       "    <tr style=\"text-align: right;\">\n",
       "      <th></th>\n",
       "      <th>Data Type</th>\n",
       "    </tr>\n",
       "  </thead>\n",
       "  <tbody>\n",
       "    <tr>\n",
       "      <th>allelectrons_Total</th>\n",
       "      <td>float64</td>\n",
       "    </tr>\n",
       "    <tr>\n",
       "      <th>density_Total</th>\n",
       "      <td>float64</td>\n",
       "    </tr>\n",
       "    <tr>\n",
       "      <th>allelectrons_Average</th>\n",
       "      <td>float64</td>\n",
       "    </tr>\n",
       "    <tr>\n",
       "      <th>val_e_Average</th>\n",
       "      <td>float64</td>\n",
       "    </tr>\n",
       "    <tr>\n",
       "      <th>atomicweight_Average</th>\n",
       "      <td>float64</td>\n",
       "    </tr>\n",
       "    <tr>\n",
       "      <th>ionenergy_Average</th>\n",
       "      <td>float64</td>\n",
       "    </tr>\n",
       "    <tr>\n",
       "      <th>el_neg_chi_Average</th>\n",
       "      <td>float64</td>\n",
       "    </tr>\n",
       "    <tr>\n",
       "      <th>R_vdw_element_Average</th>\n",
       "      <td>float64</td>\n",
       "    </tr>\n",
       "    <tr>\n",
       "      <th>R_cov_element_Average</th>\n",
       "      <td>float64</td>\n",
       "    </tr>\n",
       "    <tr>\n",
       "      <th>zaratio_Average</th>\n",
       "      <td>float64</td>\n",
       "    </tr>\n",
       "    <tr>\n",
       "      <th>density_Average</th>\n",
       "      <td>float64</td>\n",
       "    </tr>\n",
       "    <tr>\n",
       "      <th>Hardness</th>\n",
       "      <td>float64</td>\n",
       "    </tr>\n",
       "  </tbody>\n",
       "</table>\n",
       "</div>"
      ],
      "text/plain": [
       "                      Data Type\n",
       "allelectrons_Total      float64\n",
       "density_Total           float64\n",
       "allelectrons_Average    float64\n",
       "val_e_Average           float64\n",
       "atomicweight_Average    float64\n",
       "ionenergy_Average       float64\n",
       "el_neg_chi_Average      float64\n",
       "R_vdw_element_Average   float64\n",
       "R_cov_element_Average   float64\n",
       "zaratio_Average         float64\n",
       "density_Average         float64\n",
       "Hardness                float64"
      ]
     },
     "metadata": {},
     "output_type": "display_data"
    },
    {
     "name": "stdout",
     "output_type": "stream",
     "text": [
      "\n",
      " Description of Dataset:\n"
     ]
    },
    {
     "data": {
      "text/html": [
       "<div>\n",
       "<style scoped>\n",
       "    .dataframe tbody tr th:only-of-type {\n",
       "        vertical-align: middle;\n",
       "    }\n",
       "\n",
       "    .dataframe tbody tr th {\n",
       "        vertical-align: top;\n",
       "    }\n",
       "\n",
       "    .dataframe thead th {\n",
       "        text-align: right;\n",
       "    }\n",
       "</style>\n",
       "<table border=\"1\" class=\"dataframe\">\n",
       "  <thead>\n",
       "    <tr style=\"text-align: right;\">\n",
       "      <th></th>\n",
       "      <th>allelectrons_Total</th>\n",
       "      <th>density_Total</th>\n",
       "      <th>allelectrons_Average</th>\n",
       "      <th>val_e_Average</th>\n",
       "      <th>atomicweight_Average</th>\n",
       "      <th>ionenergy_Average</th>\n",
       "      <th>el_neg_chi_Average</th>\n",
       "      <th>R_vdw_element_Average</th>\n",
       "      <th>R_cov_element_Average</th>\n",
       "      <th>zaratio_Average</th>\n",
       "      <th>density_Average</th>\n",
       "      <th>Hardness</th>\n",
       "    </tr>\n",
       "  </thead>\n",
       "  <tbody>\n",
       "    <tr>\n",
       "      <th>count</th>\n",
       "      <td>10407.000000</td>\n",
       "      <td>10407.000000</td>\n",
       "      <td>10407.000000</td>\n",
       "      <td>10407.000000</td>\n",
       "      <td>10407.000000</td>\n",
       "      <td>10407.000000</td>\n",
       "      <td>10407.000000</td>\n",
       "      <td>10407.000000</td>\n",
       "      <td>10407.000000</td>\n",
       "      <td>10407.000000</td>\n",
       "      <td>10407.000000</td>\n",
       "      <td>10407.000000</td>\n",
       "    </tr>\n",
       "    <tr>\n",
       "      <th>mean</th>\n",
       "      <td>128.053516</td>\n",
       "      <td>14.491342</td>\n",
       "      <td>17.033222</td>\n",
       "      <td>4.546789</td>\n",
       "      <td>37.507703</td>\n",
       "      <td>10.938308</td>\n",
       "      <td>2.607662</td>\n",
       "      <td>1.731330</td>\n",
       "      <td>0.944132</td>\n",
       "      <td>0.493349</td>\n",
       "      <td>2.132984</td>\n",
       "      <td>4.647126</td>\n",
       "    </tr>\n",
       "    <tr>\n",
       "      <th>std</th>\n",
       "      <td>224.123776</td>\n",
       "      <td>15.972877</td>\n",
       "      <td>10.468734</td>\n",
       "      <td>0.690864</td>\n",
       "      <td>26.012313</td>\n",
       "      <td>1.408276</td>\n",
       "      <td>0.334906</td>\n",
       "      <td>0.192481</td>\n",
       "      <td>0.180017</td>\n",
       "      <td>0.063080</td>\n",
       "      <td>1.936656</td>\n",
       "      <td>1.680525</td>\n",
       "    </tr>\n",
       "    <tr>\n",
       "      <th>min</th>\n",
       "      <td>0.000000</td>\n",
       "      <td>0.000000</td>\n",
       "      <td>0.000000</td>\n",
       "      <td>0.000000</td>\n",
       "      <td>0.000000</td>\n",
       "      <td>0.000000</td>\n",
       "      <td>0.000000</td>\n",
       "      <td>0.000000</td>\n",
       "      <td>0.000000</td>\n",
       "      <td>0.000000</td>\n",
       "      <td>0.000000</td>\n",
       "      <td>1.000000</td>\n",
       "    </tr>\n",
       "    <tr>\n",
       "      <th>25%</th>\n",
       "      <td>68.000000</td>\n",
       "      <td>7.558488</td>\n",
       "      <td>10.000000</td>\n",
       "      <td>4.000000</td>\n",
       "      <td>20.298893</td>\n",
       "      <td>10.590660</td>\n",
       "      <td>2.530000</td>\n",
       "      <td>1.672500</td>\n",
       "      <td>0.864000</td>\n",
       "      <td>0.476196</td>\n",
       "      <td>0.814800</td>\n",
       "      <td>3.000000</td>\n",
       "    </tr>\n",
       "    <tr>\n",
       "      <th>50%</th>\n",
       "      <td>100.000000</td>\n",
       "      <td>10.650000</td>\n",
       "      <td>12.600000</td>\n",
       "      <td>4.714286</td>\n",
       "      <td>26.203827</td>\n",
       "      <td>11.202760</td>\n",
       "      <td>2.706000</td>\n",
       "      <td>1.732727</td>\n",
       "      <td>0.915556</td>\n",
       "      <td>0.488550</td>\n",
       "      <td>1.351550</td>\n",
       "      <td>5.500000</td>\n",
       "    </tr>\n",
       "    <tr>\n",
       "      <th>75%</th>\n",
       "      <td>131.000000</td>\n",
       "      <td>16.676996</td>\n",
       "      <td>22.000000</td>\n",
       "      <td>4.800000</td>\n",
       "      <td>48.719500</td>\n",
       "      <td>11.670725</td>\n",
       "      <td>2.805000</td>\n",
       "      <td>1.800000</td>\n",
       "      <td>0.981667</td>\n",
       "      <td>0.496070</td>\n",
       "      <td>2.741550</td>\n",
       "      <td>6.000000</td>\n",
       "    </tr>\n",
       "    <tr>\n",
       "      <th>max</th>\n",
       "      <td>15300.000000</td>\n",
       "      <td>643.093804</td>\n",
       "      <td>67.000000</td>\n",
       "      <td>6.000000</td>\n",
       "      <td>167.400000</td>\n",
       "      <td>15.245810</td>\n",
       "      <td>3.443000</td>\n",
       "      <td>2.250000</td>\n",
       "      <td>1.615840</td>\n",
       "      <td>0.825990</td>\n",
       "      <td>10.970000</td>\n",
       "      <td>10.000000</td>\n",
       "    </tr>\n",
       "  </tbody>\n",
       "</table>\n",
       "</div>"
      ],
      "text/plain": [
       "       allelectrons_Total  density_Total  allelectrons_Average  val_e_Average  \\\n",
       "count        10407.000000   10407.000000          10407.000000   10407.000000   \n",
       "mean           128.053516      14.491342             17.033222       4.546789   \n",
       "std            224.123776      15.972877             10.468734       0.690864   \n",
       "min              0.000000       0.000000              0.000000       0.000000   \n",
       "25%             68.000000       7.558488             10.000000       4.000000   \n",
       "50%            100.000000      10.650000             12.600000       4.714286   \n",
       "75%            131.000000      16.676996             22.000000       4.800000   \n",
       "max          15300.000000     643.093804             67.000000       6.000000   \n",
       "\n",
       "       atomicweight_Average  ionenergy_Average  el_neg_chi_Average  \\\n",
       "count          10407.000000       10407.000000        10407.000000   \n",
       "mean              37.507703          10.938308            2.607662   \n",
       "std               26.012313           1.408276            0.334906   \n",
       "min                0.000000           0.000000            0.000000   \n",
       "25%               20.298893          10.590660            2.530000   \n",
       "50%               26.203827          11.202760            2.706000   \n",
       "75%               48.719500          11.670725            2.805000   \n",
       "max              167.400000          15.245810            3.443000   \n",
       "\n",
       "       R_vdw_element_Average  R_cov_element_Average  zaratio_Average  \\\n",
       "count           10407.000000           10407.000000     10407.000000   \n",
       "mean                1.731330               0.944132         0.493349   \n",
       "std                 0.192481               0.180017         0.063080   \n",
       "min                 0.000000               0.000000         0.000000   \n",
       "25%                 1.672500               0.864000         0.476196   \n",
       "50%                 1.732727               0.915556         0.488550   \n",
       "75%                 1.800000               0.981667         0.496070   \n",
       "max                 2.250000               1.615840         0.825990   \n",
       "\n",
       "       density_Average      Hardness  \n",
       "count     10407.000000  10407.000000  \n",
       "mean          2.132984      4.647126  \n",
       "std           1.936656      1.680525  \n",
       "min           0.000000      1.000000  \n",
       "25%           0.814800      3.000000  \n",
       "50%           1.351550      5.500000  \n",
       "75%           2.741550      6.000000  \n",
       "max          10.970000     10.000000  "
      ]
     },
     "metadata": {},
     "output_type": "display_data"
    },
    {
     "name": "stdout",
     "output_type": "stream",
     "text": [
      "\n",
      "Percentage of Missing Values:\n"
     ]
    },
    {
     "data": {
      "text/html": [
       "<div>\n",
       "<style scoped>\n",
       "    .dataframe tbody tr th:only-of-type {\n",
       "        vertical-align: middle;\n",
       "    }\n",
       "\n",
       "    .dataframe tbody tr th {\n",
       "        vertical-align: top;\n",
       "    }\n",
       "\n",
       "    .dataframe thead th {\n",
       "        text-align: right;\n",
       "    }\n",
       "</style>\n",
       "<table border=\"1\" class=\"dataframe\">\n",
       "  <thead>\n",
       "    <tr style=\"text-align: right;\">\n",
       "      <th></th>\n",
       "      <th>Missing Values</th>\n",
       "    </tr>\n",
       "  </thead>\n",
       "  <tbody>\n",
       "    <tr>\n",
       "      <th>allelectrons_Total</th>\n",
       "      <td>0.0</td>\n",
       "    </tr>\n",
       "    <tr>\n",
       "      <th>density_Total</th>\n",
       "      <td>0.0</td>\n",
       "    </tr>\n",
       "    <tr>\n",
       "      <th>allelectrons_Average</th>\n",
       "      <td>0.0</td>\n",
       "    </tr>\n",
       "    <tr>\n",
       "      <th>val_e_Average</th>\n",
       "      <td>0.0</td>\n",
       "    </tr>\n",
       "    <tr>\n",
       "      <th>atomicweight_Average</th>\n",
       "      <td>0.0</td>\n",
       "    </tr>\n",
       "    <tr>\n",
       "      <th>ionenergy_Average</th>\n",
       "      <td>0.0</td>\n",
       "    </tr>\n",
       "    <tr>\n",
       "      <th>el_neg_chi_Average</th>\n",
       "      <td>0.0</td>\n",
       "    </tr>\n",
       "    <tr>\n",
       "      <th>R_vdw_element_Average</th>\n",
       "      <td>0.0</td>\n",
       "    </tr>\n",
       "    <tr>\n",
       "      <th>R_cov_element_Average</th>\n",
       "      <td>0.0</td>\n",
       "    </tr>\n",
       "    <tr>\n",
       "      <th>zaratio_Average</th>\n",
       "      <td>0.0</td>\n",
       "    </tr>\n",
       "    <tr>\n",
       "      <th>density_Average</th>\n",
       "      <td>0.0</td>\n",
       "    </tr>\n",
       "    <tr>\n",
       "      <th>Hardness</th>\n",
       "      <td>0.0</td>\n",
       "    </tr>\n",
       "  </tbody>\n",
       "</table>\n",
       "</div>"
      ],
      "text/plain": [
       "                       Missing Values\n",
       "allelectrons_Total                0.0\n",
       "density_Total                     0.0\n",
       "allelectrons_Average              0.0\n",
       "val_e_Average                     0.0\n",
       "atomicweight_Average              0.0\n",
       "ionenergy_Average                 0.0\n",
       "el_neg_chi_Average                0.0\n",
       "R_vdw_element_Average             0.0\n",
       "R_cov_element_Average             0.0\n",
       "zaratio_Average                   0.0\n",
       "density_Average                   0.0\n",
       "Hardness                          0.0"
      ]
     },
     "metadata": {},
     "output_type": "display_data"
    },
    {
     "name": "stdout",
     "output_type": "stream",
     "text": [
      "\n",
      "Duplicated Rows:\n",
      "\n",
      "No Duplicates\n",
      "\n",
      "Categorical Columns:\n",
      "\n",
      "No Categorical Columns\n"
     ]
    }
   ],
   "source": [
    "inspection(df)"
   ]
  },
  {
   "cell_type": "code",
   "execution_count": 9,
   "id": "914e5cd0",
   "metadata": {
    "execution": {
     "iopub.execute_input": "2023-11-30T06:46:50.466868Z",
     "iopub.status.busy": "2023-11-30T06:46:50.466518Z",
     "iopub.status.idle": "2023-11-30T06:46:50.561844Z",
     "shell.execute_reply": "2023-11-30T06:46:50.560979Z"
    },
    "papermill": {
     "duration": 0.107631,
     "end_time": "2023-11-30T06:46:50.563527",
     "exception": false,
     "start_time": "2023-11-30T06:46:50.455896",
     "status": "completed"
    },
    "tags": []
   },
   "outputs": [
    {
     "name": "stdout",
     "output_type": "stream",
     "text": [
      "Shape of dataset:  (6939, 11)\n",
      "\n",
      " Top 5 rows of dataset :\n"
     ]
    },
    {
     "data": {
      "text/html": [
       "<div>\n",
       "<style scoped>\n",
       "    .dataframe tbody tr th:only-of-type {\n",
       "        vertical-align: middle;\n",
       "    }\n",
       "\n",
       "    .dataframe tbody tr th {\n",
       "        vertical-align: top;\n",
       "    }\n",
       "\n",
       "    .dataframe thead th {\n",
       "        text-align: right;\n",
       "    }\n",
       "</style>\n",
       "<table border=\"1\" class=\"dataframe\">\n",
       "  <thead>\n",
       "    <tr style=\"text-align: right;\">\n",
       "      <th></th>\n",
       "      <th>allelectrons_Total</th>\n",
       "      <th>density_Total</th>\n",
       "      <th>allelectrons_Average</th>\n",
       "      <th>val_e_Average</th>\n",
       "      <th>atomicweight_Average</th>\n",
       "      <th>ionenergy_Average</th>\n",
       "      <th>el_neg_chi_Average</th>\n",
       "      <th>R_vdw_element_Average</th>\n",
       "      <th>R_cov_element_Average</th>\n",
       "      <th>zaratio_Average</th>\n",
       "      <th>density_Average</th>\n",
       "    </tr>\n",
       "  </thead>\n",
       "  <tbody>\n",
       "    <tr>\n",
       "      <th>0</th>\n",
       "      <td>884.0</td>\n",
       "      <td>121.420000</td>\n",
       "      <td>35.36</td>\n",
       "      <td>5.28</td>\n",
       "      <td>82.561240</td>\n",
       "      <td>9.370384</td>\n",
       "      <td>2.298</td>\n",
       "      <td>1.9072</td>\n",
       "      <td>1.200000</td>\n",
       "      <td>0.461899</td>\n",
       "      <td>1.79459</td>\n",
       "    </tr>\n",
       "    <tr>\n",
       "      <th>1</th>\n",
       "      <td>90.0</td>\n",
       "      <td>9.931960</td>\n",
       "      <td>18.00</td>\n",
       "      <td>5.60</td>\n",
       "      <td>39.568056</td>\n",
       "      <td>12.086300</td>\n",
       "      <td>2.868</td>\n",
       "      <td>1.6520</td>\n",
       "      <td>0.864000</td>\n",
       "      <td>0.476196</td>\n",
       "      <td>1.41194</td>\n",
       "    </tr>\n",
       "    <tr>\n",
       "      <th>2</th>\n",
       "      <td>116.0</td>\n",
       "      <td>7.767992</td>\n",
       "      <td>11.60</td>\n",
       "      <td>4.80</td>\n",
       "      <td>23.231818</td>\n",
       "      <td>11.023840</td>\n",
       "      <td>2.644</td>\n",
       "      <td>1.7940</td>\n",
       "      <td>0.960000</td>\n",
       "      <td>0.499514</td>\n",
       "      <td>0.78834</td>\n",
       "    </tr>\n",
       "    <tr>\n",
       "      <th>3</th>\n",
       "      <td>100.0</td>\n",
       "      <td>9.107996</td>\n",
       "      <td>10.00</td>\n",
       "      <td>4.80</td>\n",
       "      <td>20.298893</td>\n",
       "      <td>12.086300</td>\n",
       "      <td>2.828</td>\n",
       "      <td>1.6620</td>\n",
       "      <td>0.792000</td>\n",
       "      <td>0.495796</td>\n",
       "      <td>1.20466</td>\n",
       "    </tr>\n",
       "    <tr>\n",
       "      <th>4</th>\n",
       "      <td>55.0</td>\n",
       "      <td>4.030000</td>\n",
       "      <td>11.00</td>\n",
       "      <td>4.00</td>\n",
       "      <td>22.977675</td>\n",
       "      <td>11.280950</td>\n",
       "      <td>2.455</td>\n",
       "      <td>1.7500</td>\n",
       "      <td>0.893333</td>\n",
       "      <td>0.476095</td>\n",
       "      <td>0.93456</td>\n",
       "    </tr>\n",
       "  </tbody>\n",
       "</table>\n",
       "</div>"
      ],
      "text/plain": [
       "   allelectrons_Total  density_Total  allelectrons_Average  val_e_Average  \\\n",
       "0               884.0     121.420000                 35.36           5.28   \n",
       "1                90.0       9.931960                 18.00           5.60   \n",
       "2               116.0       7.767992                 11.60           4.80   \n",
       "3               100.0       9.107996                 10.00           4.80   \n",
       "4                55.0       4.030000                 11.00           4.00   \n",
       "\n",
       "   atomicweight_Average  ionenergy_Average  el_neg_chi_Average  \\\n",
       "0             82.561240           9.370384               2.298   \n",
       "1             39.568056          12.086300               2.868   \n",
       "2             23.231818          11.023840               2.644   \n",
       "3             20.298893          12.086300               2.828   \n",
       "4             22.977675          11.280950               2.455   \n",
       "\n",
       "   R_vdw_element_Average  R_cov_element_Average  zaratio_Average  \\\n",
       "0                 1.9072               1.200000         0.461899   \n",
       "1                 1.6520               0.864000         0.476196   \n",
       "2                 1.7940               0.960000         0.499514   \n",
       "3                 1.6620               0.792000         0.495796   \n",
       "4                 1.7500               0.893333         0.476095   \n",
       "\n",
       "   density_Average  \n",
       "0          1.79459  \n",
       "1          1.41194  \n",
       "2          0.78834  \n",
       "3          1.20466  \n",
       "4          0.93456  "
      ]
     },
     "metadata": {},
     "output_type": "display_data"
    },
    {
     "name": "stdout",
     "output_type": "stream",
     "text": [
      "\n",
      " Description of Dataset:\n"
     ]
    },
    {
     "data": {
      "text/html": [
       "<div>\n",
       "<style scoped>\n",
       "    .dataframe tbody tr th:only-of-type {\n",
       "        vertical-align: middle;\n",
       "    }\n",
       "\n",
       "    .dataframe tbody tr th {\n",
       "        vertical-align: top;\n",
       "    }\n",
       "\n",
       "    .dataframe thead th {\n",
       "        text-align: right;\n",
       "    }\n",
       "</style>\n",
       "<table border=\"1\" class=\"dataframe\">\n",
       "  <thead>\n",
       "    <tr style=\"text-align: right;\">\n",
       "      <th></th>\n",
       "      <th>count</th>\n",
       "      <th>mean</th>\n",
       "      <th>std</th>\n",
       "      <th>min</th>\n",
       "      <th>25%</th>\n",
       "      <th>50%</th>\n",
       "      <th>75%</th>\n",
       "      <th>max</th>\n",
       "    </tr>\n",
       "  </thead>\n",
       "  <tbody>\n",
       "    <tr>\n",
       "      <th>allelectrons_Total</th>\n",
       "      <td>6939.0</td>\n",
       "      <td>126.460128</td>\n",
       "      <td>207.564499</td>\n",
       "      <td>0.0</td>\n",
       "      <td>68.000000</td>\n",
       "      <td>100.000000</td>\n",
       "      <td>128.000000</td>\n",
       "      <td>10116.000000</td>\n",
       "    </tr>\n",
       "    <tr>\n",
       "      <th>density_Total</th>\n",
       "      <td>6939.0</td>\n",
       "      <td>14.794020</td>\n",
       "      <td>18.982447</td>\n",
       "      <td>0.0</td>\n",
       "      <td>7.558488</td>\n",
       "      <td>10.650000</td>\n",
       "      <td>16.601328</td>\n",
       "      <td>643.093804</td>\n",
       "    </tr>\n",
       "    <tr>\n",
       "      <th>allelectrons_Average</th>\n",
       "      <td>6939.0</td>\n",
       "      <td>17.406186</td>\n",
       "      <td>10.996089</td>\n",
       "      <td>0.0</td>\n",
       "      <td>10.000000</td>\n",
       "      <td>12.666667</td>\n",
       "      <td>22.000000</td>\n",
       "      <td>67.000000</td>\n",
       "    </tr>\n",
       "    <tr>\n",
       "      <th>val_e_Average</th>\n",
       "      <td>6939.0</td>\n",
       "      <td>4.546852</td>\n",
       "      <td>0.683158</td>\n",
       "      <td>0.0</td>\n",
       "      <td>4.000000</td>\n",
       "      <td>4.750000</td>\n",
       "      <td>4.800000</td>\n",
       "      <td>6.000000</td>\n",
       "    </tr>\n",
       "    <tr>\n",
       "      <th>atomicweight_Average</th>\n",
       "      <td>6939.0</td>\n",
       "      <td>38.422790</td>\n",
       "      <td>27.344351</td>\n",
       "      <td>0.0</td>\n",
       "      <td>20.298893</td>\n",
       "      <td>26.203827</td>\n",
       "      <td>48.719500</td>\n",
       "      <td>167.400000</td>\n",
       "    </tr>\n",
       "    <tr>\n",
       "      <th>ionenergy_Average</th>\n",
       "      <td>6939.0</td>\n",
       "      <td>10.921512</td>\n",
       "      <td>1.378980</td>\n",
       "      <td>0.0</td>\n",
       "      <td>10.584314</td>\n",
       "      <td>11.202760</td>\n",
       "      <td>11.645560</td>\n",
       "      <td>15.245810</td>\n",
       "    </tr>\n",
       "    <tr>\n",
       "      <th>el_neg_chi_Average</th>\n",
       "      <td>6939.0</td>\n",
       "      <td>2.608119</td>\n",
       "      <td>0.322873</td>\n",
       "      <td>0.0</td>\n",
       "      <td>2.527500</td>\n",
       "      <td>2.706000</td>\n",
       "      <td>2.806667</td>\n",
       "      <td>3.443000</td>\n",
       "    </tr>\n",
       "    <tr>\n",
       "      <th>R_vdw_element_Average</th>\n",
       "      <td>6939.0</td>\n",
       "      <td>1.737907</td>\n",
       "      <td>0.190584</td>\n",
       "      <td>0.0</td>\n",
       "      <td>1.678000</td>\n",
       "      <td>1.736000</td>\n",
       "      <td>1.820000</td>\n",
       "      <td>2.250000</td>\n",
       "    </tr>\n",
       "    <tr>\n",
       "      <th>R_cov_element_Average</th>\n",
       "      <td>6939.0</td>\n",
       "      <td>0.949638</td>\n",
       "      <td>0.179266</td>\n",
       "      <td>0.0</td>\n",
       "      <td>0.866667</td>\n",
       "      <td>0.920000</td>\n",
       "      <td>0.990000</td>\n",
       "      <td>1.615333</td>\n",
       "    </tr>\n",
       "    <tr>\n",
       "      <th>zaratio_Average</th>\n",
       "      <td>6939.0</td>\n",
       "      <td>0.491675</td>\n",
       "      <td>0.060829</td>\n",
       "      <td>0.0</td>\n",
       "      <td>0.476095</td>\n",
       "      <td>0.488550</td>\n",
       "      <td>0.496118</td>\n",
       "      <td>0.825990</td>\n",
       "    </tr>\n",
       "    <tr>\n",
       "      <th>density_Average</th>\n",
       "      <td>6939.0</td>\n",
       "      <td>2.152065</td>\n",
       "      <td>1.958213</td>\n",
       "      <td>0.0</td>\n",
       "      <td>0.812440</td>\n",
       "      <td>1.351550</td>\n",
       "      <td>2.780220</td>\n",
       "      <td>10.970000</td>\n",
       "    </tr>\n",
       "  </tbody>\n",
       "</table>\n",
       "</div>"
      ],
      "text/plain": [
       "                        count        mean         std  min        25%  \\\n",
       "allelectrons_Total     6939.0  126.460128  207.564499  0.0  68.000000   \n",
       "density_Total          6939.0   14.794020   18.982447  0.0   7.558488   \n",
       "allelectrons_Average   6939.0   17.406186   10.996089  0.0  10.000000   \n",
       "val_e_Average          6939.0    4.546852    0.683158  0.0   4.000000   \n",
       "atomicweight_Average   6939.0   38.422790   27.344351  0.0  20.298893   \n",
       "ionenergy_Average      6939.0   10.921512    1.378980  0.0  10.584314   \n",
       "el_neg_chi_Average     6939.0    2.608119    0.322873  0.0   2.527500   \n",
       "R_vdw_element_Average  6939.0    1.737907    0.190584  0.0   1.678000   \n",
       "R_cov_element_Average  6939.0    0.949638    0.179266  0.0   0.866667   \n",
       "zaratio_Average        6939.0    0.491675    0.060829  0.0   0.476095   \n",
       "density_Average        6939.0    2.152065    1.958213  0.0   0.812440   \n",
       "\n",
       "                              50%         75%           max  \n",
       "allelectrons_Total     100.000000  128.000000  10116.000000  \n",
       "density_Total           10.650000   16.601328    643.093804  \n",
       "allelectrons_Average    12.666667   22.000000     67.000000  \n",
       "val_e_Average            4.750000    4.800000      6.000000  \n",
       "atomicweight_Average    26.203827   48.719500    167.400000  \n",
       "ionenergy_Average       11.202760   11.645560     15.245810  \n",
       "el_neg_chi_Average       2.706000    2.806667      3.443000  \n",
       "R_vdw_element_Average    1.736000    1.820000      2.250000  \n",
       "R_cov_element_Average    0.920000    0.990000      1.615333  \n",
       "zaratio_Average          0.488550    0.496118      0.825990  \n",
       "density_Average          1.351550    2.780220     10.970000  "
      ]
     },
     "metadata": {},
     "output_type": "display_data"
    },
    {
     "name": "stdout",
     "output_type": "stream",
     "text": [
      "\n",
      " Information of Dataset:\n",
      "<class 'pandas.core.frame.DataFrame'>\n",
      "RangeIndex: 6939 entries, 0 to 6938\n",
      "Data columns (total 11 columns):\n",
      " #   Column                 Non-Null Count  Dtype  \n",
      "---  ------                 --------------  -----  \n",
      " 0   allelectrons_Total     6939 non-null   float64\n",
      " 1   density_Total          6939 non-null   float64\n",
      " 2   allelectrons_Average   6939 non-null   float64\n",
      " 3   val_e_Average          6939 non-null   float64\n",
      " 4   atomicweight_Average   6939 non-null   float64\n",
      " 5   ionenergy_Average      6939 non-null   float64\n",
      " 6   el_neg_chi_Average     6939 non-null   float64\n",
      " 7   R_vdw_element_Average  6939 non-null   float64\n",
      " 8   R_cov_element_Average  6939 non-null   float64\n",
      " 9   zaratio_Average        6939 non-null   float64\n",
      " 10  density_Average        6939 non-null   float64\n",
      "dtypes: float64(11)\n",
      "memory usage: 596.4 KB\n"
     ]
    },
    {
     "data": {
      "text/html": [
       "<div>\n",
       "<style scoped>\n",
       "    .dataframe tbody tr th:only-of-type {\n",
       "        vertical-align: middle;\n",
       "    }\n",
       "\n",
       "    .dataframe tbody tr th {\n",
       "        vertical-align: top;\n",
       "    }\n",
       "\n",
       "    .dataframe thead th {\n",
       "        text-align: right;\n",
       "    }\n",
       "</style>\n",
       "<table border=\"1\" class=\"dataframe\">\n",
       "  <thead>\n",
       "    <tr style=\"text-align: right;\">\n",
       "      <th></th>\n",
       "      <th>Info</th>\n",
       "    </tr>\n",
       "  </thead>\n",
       "  <tbody>\n",
       "  </tbody>\n",
       "</table>\n",
       "</div>"
      ],
      "text/plain": [
       "Empty DataFrame\n",
       "Columns: [Info]\n",
       "Index: []"
      ]
     },
     "metadata": {},
     "output_type": "display_data"
    },
    {
     "name": "stdout",
     "output_type": "stream",
     "text": [
      "\n",
      "Dataset Data Types:\n"
     ]
    },
    {
     "data": {
      "text/html": [
       "<div>\n",
       "<style scoped>\n",
       "    .dataframe tbody tr th:only-of-type {\n",
       "        vertical-align: middle;\n",
       "    }\n",
       "\n",
       "    .dataframe tbody tr th {\n",
       "        vertical-align: top;\n",
       "    }\n",
       "\n",
       "    .dataframe thead th {\n",
       "        text-align: right;\n",
       "    }\n",
       "</style>\n",
       "<table border=\"1\" class=\"dataframe\">\n",
       "  <thead>\n",
       "    <tr style=\"text-align: right;\">\n",
       "      <th></th>\n",
       "      <th>Data Type</th>\n",
       "    </tr>\n",
       "  </thead>\n",
       "  <tbody>\n",
       "    <tr>\n",
       "      <th>allelectrons_Total</th>\n",
       "      <td>float64</td>\n",
       "    </tr>\n",
       "    <tr>\n",
       "      <th>density_Total</th>\n",
       "      <td>float64</td>\n",
       "    </tr>\n",
       "    <tr>\n",
       "      <th>allelectrons_Average</th>\n",
       "      <td>float64</td>\n",
       "    </tr>\n",
       "    <tr>\n",
       "      <th>val_e_Average</th>\n",
       "      <td>float64</td>\n",
       "    </tr>\n",
       "    <tr>\n",
       "      <th>atomicweight_Average</th>\n",
       "      <td>float64</td>\n",
       "    </tr>\n",
       "    <tr>\n",
       "      <th>ionenergy_Average</th>\n",
       "      <td>float64</td>\n",
       "    </tr>\n",
       "    <tr>\n",
       "      <th>el_neg_chi_Average</th>\n",
       "      <td>float64</td>\n",
       "    </tr>\n",
       "    <tr>\n",
       "      <th>R_vdw_element_Average</th>\n",
       "      <td>float64</td>\n",
       "    </tr>\n",
       "    <tr>\n",
       "      <th>R_cov_element_Average</th>\n",
       "      <td>float64</td>\n",
       "    </tr>\n",
       "    <tr>\n",
       "      <th>zaratio_Average</th>\n",
       "      <td>float64</td>\n",
       "    </tr>\n",
       "    <tr>\n",
       "      <th>density_Average</th>\n",
       "      <td>float64</td>\n",
       "    </tr>\n",
       "  </tbody>\n",
       "</table>\n",
       "</div>"
      ],
      "text/plain": [
       "                      Data Type\n",
       "allelectrons_Total      float64\n",
       "density_Total           float64\n",
       "allelectrons_Average    float64\n",
       "val_e_Average           float64\n",
       "atomicweight_Average    float64\n",
       "ionenergy_Average       float64\n",
       "el_neg_chi_Average      float64\n",
       "R_vdw_element_Average   float64\n",
       "R_cov_element_Average   float64\n",
       "zaratio_Average         float64\n",
       "density_Average         float64"
      ]
     },
     "metadata": {},
     "output_type": "display_data"
    },
    {
     "name": "stdout",
     "output_type": "stream",
     "text": [
      "\n",
      " Description of Dataset:\n"
     ]
    },
    {
     "data": {
      "text/html": [
       "<div>\n",
       "<style scoped>\n",
       "    .dataframe tbody tr th:only-of-type {\n",
       "        vertical-align: middle;\n",
       "    }\n",
       "\n",
       "    .dataframe tbody tr th {\n",
       "        vertical-align: top;\n",
       "    }\n",
       "\n",
       "    .dataframe thead th {\n",
       "        text-align: right;\n",
       "    }\n",
       "</style>\n",
       "<table border=\"1\" class=\"dataframe\">\n",
       "  <thead>\n",
       "    <tr style=\"text-align: right;\">\n",
       "      <th></th>\n",
       "      <th>allelectrons_Total</th>\n",
       "      <th>density_Total</th>\n",
       "      <th>allelectrons_Average</th>\n",
       "      <th>val_e_Average</th>\n",
       "      <th>atomicweight_Average</th>\n",
       "      <th>ionenergy_Average</th>\n",
       "      <th>el_neg_chi_Average</th>\n",
       "      <th>R_vdw_element_Average</th>\n",
       "      <th>R_cov_element_Average</th>\n",
       "      <th>zaratio_Average</th>\n",
       "      <th>density_Average</th>\n",
       "    </tr>\n",
       "  </thead>\n",
       "  <tbody>\n",
       "    <tr>\n",
       "      <th>count</th>\n",
       "      <td>6939.000000</td>\n",
       "      <td>6939.000000</td>\n",
       "      <td>6939.000000</td>\n",
       "      <td>6939.000000</td>\n",
       "      <td>6939.000000</td>\n",
       "      <td>6939.000000</td>\n",
       "      <td>6939.000000</td>\n",
       "      <td>6939.000000</td>\n",
       "      <td>6939.000000</td>\n",
       "      <td>6939.000000</td>\n",
       "      <td>6939.000000</td>\n",
       "    </tr>\n",
       "    <tr>\n",
       "      <th>mean</th>\n",
       "      <td>126.460128</td>\n",
       "      <td>14.794020</td>\n",
       "      <td>17.406186</td>\n",
       "      <td>4.546852</td>\n",
       "      <td>38.422790</td>\n",
       "      <td>10.921512</td>\n",
       "      <td>2.608119</td>\n",
       "      <td>1.737907</td>\n",
       "      <td>0.949638</td>\n",
       "      <td>0.491675</td>\n",
       "      <td>2.152065</td>\n",
       "    </tr>\n",
       "    <tr>\n",
       "      <th>std</th>\n",
       "      <td>207.564499</td>\n",
       "      <td>18.982447</td>\n",
       "      <td>10.996089</td>\n",
       "      <td>0.683158</td>\n",
       "      <td>27.344351</td>\n",
       "      <td>1.378980</td>\n",
       "      <td>0.322873</td>\n",
       "      <td>0.190584</td>\n",
       "      <td>0.179266</td>\n",
       "      <td>0.060829</td>\n",
       "      <td>1.958213</td>\n",
       "    </tr>\n",
       "    <tr>\n",
       "      <th>min</th>\n",
       "      <td>0.000000</td>\n",
       "      <td>0.000000</td>\n",
       "      <td>0.000000</td>\n",
       "      <td>0.000000</td>\n",
       "      <td>0.000000</td>\n",
       "      <td>0.000000</td>\n",
       "      <td>0.000000</td>\n",
       "      <td>0.000000</td>\n",
       "      <td>0.000000</td>\n",
       "      <td>0.000000</td>\n",
       "      <td>0.000000</td>\n",
       "    </tr>\n",
       "    <tr>\n",
       "      <th>25%</th>\n",
       "      <td>68.000000</td>\n",
       "      <td>7.558488</td>\n",
       "      <td>10.000000</td>\n",
       "      <td>4.000000</td>\n",
       "      <td>20.298893</td>\n",
       "      <td>10.584314</td>\n",
       "      <td>2.527500</td>\n",
       "      <td>1.678000</td>\n",
       "      <td>0.866667</td>\n",
       "      <td>0.476095</td>\n",
       "      <td>0.812440</td>\n",
       "    </tr>\n",
       "    <tr>\n",
       "      <th>50%</th>\n",
       "      <td>100.000000</td>\n",
       "      <td>10.650000</td>\n",
       "      <td>12.666667</td>\n",
       "      <td>4.750000</td>\n",
       "      <td>26.203827</td>\n",
       "      <td>11.202760</td>\n",
       "      <td>2.706000</td>\n",
       "      <td>1.736000</td>\n",
       "      <td>0.920000</td>\n",
       "      <td>0.488550</td>\n",
       "      <td>1.351550</td>\n",
       "    </tr>\n",
       "    <tr>\n",
       "      <th>75%</th>\n",
       "      <td>128.000000</td>\n",
       "      <td>16.601328</td>\n",
       "      <td>22.000000</td>\n",
       "      <td>4.800000</td>\n",
       "      <td>48.719500</td>\n",
       "      <td>11.645560</td>\n",
       "      <td>2.806667</td>\n",
       "      <td>1.820000</td>\n",
       "      <td>0.990000</td>\n",
       "      <td>0.496118</td>\n",
       "      <td>2.780220</td>\n",
       "    </tr>\n",
       "    <tr>\n",
       "      <th>max</th>\n",
       "      <td>10116.000000</td>\n",
       "      <td>643.093804</td>\n",
       "      <td>67.000000</td>\n",
       "      <td>6.000000</td>\n",
       "      <td>167.400000</td>\n",
       "      <td>15.245810</td>\n",
       "      <td>3.443000</td>\n",
       "      <td>2.250000</td>\n",
       "      <td>1.615333</td>\n",
       "      <td>0.825990</td>\n",
       "      <td>10.970000</td>\n",
       "    </tr>\n",
       "  </tbody>\n",
       "</table>\n",
       "</div>"
      ],
      "text/plain": [
       "       allelectrons_Total  density_Total  allelectrons_Average  val_e_Average  \\\n",
       "count         6939.000000    6939.000000           6939.000000    6939.000000   \n",
       "mean           126.460128      14.794020             17.406186       4.546852   \n",
       "std            207.564499      18.982447             10.996089       0.683158   \n",
       "min              0.000000       0.000000              0.000000       0.000000   \n",
       "25%             68.000000       7.558488             10.000000       4.000000   \n",
       "50%            100.000000      10.650000             12.666667       4.750000   \n",
       "75%            128.000000      16.601328             22.000000       4.800000   \n",
       "max          10116.000000     643.093804             67.000000       6.000000   \n",
       "\n",
       "       atomicweight_Average  ionenergy_Average  el_neg_chi_Average  \\\n",
       "count           6939.000000        6939.000000         6939.000000   \n",
       "mean              38.422790          10.921512            2.608119   \n",
       "std               27.344351           1.378980            0.322873   \n",
       "min                0.000000           0.000000            0.000000   \n",
       "25%               20.298893          10.584314            2.527500   \n",
       "50%               26.203827          11.202760            2.706000   \n",
       "75%               48.719500          11.645560            2.806667   \n",
       "max              167.400000          15.245810            3.443000   \n",
       "\n",
       "       R_vdw_element_Average  R_cov_element_Average  zaratio_Average  \\\n",
       "count            6939.000000            6939.000000      6939.000000   \n",
       "mean                1.737907               0.949638         0.491675   \n",
       "std                 0.190584               0.179266         0.060829   \n",
       "min                 0.000000               0.000000         0.000000   \n",
       "25%                 1.678000               0.866667         0.476095   \n",
       "50%                 1.736000               0.920000         0.488550   \n",
       "75%                 1.820000               0.990000         0.496118   \n",
       "max                 2.250000               1.615333         0.825990   \n",
       "\n",
       "       density_Average  \n",
       "count      6939.000000  \n",
       "mean          2.152065  \n",
       "std           1.958213  \n",
       "min           0.000000  \n",
       "25%           0.812440  \n",
       "50%           1.351550  \n",
       "75%           2.780220  \n",
       "max          10.970000  "
      ]
     },
     "metadata": {},
     "output_type": "display_data"
    },
    {
     "name": "stdout",
     "output_type": "stream",
     "text": [
      "\n",
      "Percentage of Missing Values:\n"
     ]
    },
    {
     "data": {
      "text/html": [
       "<div>\n",
       "<style scoped>\n",
       "    .dataframe tbody tr th:only-of-type {\n",
       "        vertical-align: middle;\n",
       "    }\n",
       "\n",
       "    .dataframe tbody tr th {\n",
       "        vertical-align: top;\n",
       "    }\n",
       "\n",
       "    .dataframe thead th {\n",
       "        text-align: right;\n",
       "    }\n",
       "</style>\n",
       "<table border=\"1\" class=\"dataframe\">\n",
       "  <thead>\n",
       "    <tr style=\"text-align: right;\">\n",
       "      <th></th>\n",
       "      <th>Missing Values</th>\n",
       "    </tr>\n",
       "  </thead>\n",
       "  <tbody>\n",
       "    <tr>\n",
       "      <th>allelectrons_Total</th>\n",
       "      <td>0.0</td>\n",
       "    </tr>\n",
       "    <tr>\n",
       "      <th>density_Total</th>\n",
       "      <td>0.0</td>\n",
       "    </tr>\n",
       "    <tr>\n",
       "      <th>allelectrons_Average</th>\n",
       "      <td>0.0</td>\n",
       "    </tr>\n",
       "    <tr>\n",
       "      <th>val_e_Average</th>\n",
       "      <td>0.0</td>\n",
       "    </tr>\n",
       "    <tr>\n",
       "      <th>atomicweight_Average</th>\n",
       "      <td>0.0</td>\n",
       "    </tr>\n",
       "    <tr>\n",
       "      <th>ionenergy_Average</th>\n",
       "      <td>0.0</td>\n",
       "    </tr>\n",
       "    <tr>\n",
       "      <th>el_neg_chi_Average</th>\n",
       "      <td>0.0</td>\n",
       "    </tr>\n",
       "    <tr>\n",
       "      <th>R_vdw_element_Average</th>\n",
       "      <td>0.0</td>\n",
       "    </tr>\n",
       "    <tr>\n",
       "      <th>R_cov_element_Average</th>\n",
       "      <td>0.0</td>\n",
       "    </tr>\n",
       "    <tr>\n",
       "      <th>zaratio_Average</th>\n",
       "      <td>0.0</td>\n",
       "    </tr>\n",
       "    <tr>\n",
       "      <th>density_Average</th>\n",
       "      <td>0.0</td>\n",
       "    </tr>\n",
       "  </tbody>\n",
       "</table>\n",
       "</div>"
      ],
      "text/plain": [
       "                       Missing Values\n",
       "allelectrons_Total                0.0\n",
       "density_Total                     0.0\n",
       "allelectrons_Average              0.0\n",
       "val_e_Average                     0.0\n",
       "atomicweight_Average              0.0\n",
       "ionenergy_Average                 0.0\n",
       "el_neg_chi_Average                0.0\n",
       "R_vdw_element_Average             0.0\n",
       "R_cov_element_Average             0.0\n",
       "zaratio_Average                   0.0\n",
       "density_Average                   0.0"
      ]
     },
     "metadata": {},
     "output_type": "display_data"
    },
    {
     "name": "stdout",
     "output_type": "stream",
     "text": [
      "\n",
      "Duplicated Rows:\n",
      "\n",
      "No Duplicates\n",
      "\n",
      "Categorical Columns:\n",
      "\n",
      "No Categorical Columns\n"
     ]
    }
   ],
   "source": [
    "inspection(test)"
   ]
  },
  {
   "cell_type": "markdown",
   "id": "479ce126",
   "metadata": {
    "papermill": {
     "duration": 0.010019,
     "end_time": "2023-11-30T06:46:50.583793",
     "exception": false,
     "start_time": "2023-11-30T06:46:50.573774",
     "status": "completed"
    },
    "tags": []
   },
   "source": [
    "## EDA"
   ]
  },
  {
   "cell_type": "code",
   "execution_count": 10,
   "id": "db65a173",
   "metadata": {
    "execution": {
     "iopub.execute_input": "2023-11-30T06:46:50.605218Z",
     "iopub.status.busy": "2023-11-30T06:46:50.604908Z",
     "iopub.status.idle": "2023-11-30T06:46:50.611639Z",
     "shell.execute_reply": "2023-11-30T06:46:50.610832Z"
    },
    "papermill": {
     "duration": 0.019667,
     "end_time": "2023-11-30T06:46:50.613244",
     "exception": false,
     "start_time": "2023-11-30T06:46:50.593577",
     "status": "completed"
    },
    "tags": []
   },
   "outputs": [],
   "source": [
    "def dis_outliers(data):\n",
    "    for i in numerical:\n",
    "        q1= data[i].quantile(0.25)\n",
    "        q3=data[i].quantile(0.75)\n",
    "        iqr=q3-q1\n",
    "        lower= q1-1.5*iqr\n",
    "        upper=q3+1.5*iqr\n",
    "        outliers_count = ((data[i] < lower) | (data[i] > upper)).sum()\n",
    "        percentage = (outliers_count / len(data)) * 100\n",
    "        print(i)\n",
    "        print('\\n Outliers percentage : ',percentage)\n",
    "        fig,axes = plt.subplots(1,2,figsize=(12,5))\n",
    "        sns.boxplot(x=data[i],ax=axes[0])\n",
    "        axes[0].set_title(f'BoxPlot of {i}')\n",
    "        sns.histplot(data[i],ax=axes[1])\n",
    "        axes[0].set_title(f'Distribution of {i}')\n",
    "        plt.show()"
   ]
  },
  {
   "cell_type": "code",
   "execution_count": 11,
   "id": "9d0be700",
   "metadata": {
    "execution": {
     "iopub.execute_input": "2023-11-30T06:46:50.634511Z",
     "iopub.status.busy": "2023-11-30T06:46:50.634251Z",
     "iopub.status.idle": "2023-11-30T06:46:59.527011Z",
     "shell.execute_reply": "2023-11-30T06:46:59.525931Z"
    },
    "papermill": {
     "duration": 8.90552,
     "end_time": "2023-11-30T06:46:59.528885",
     "exception": false,
     "start_time": "2023-11-30T06:46:50.623365",
     "status": "completed"
    },
    "tags": []
   },
   "outputs": [
    {
     "name": "stdout",
     "output_type": "stream",
     "text": [
      "allelectrons_Total\n",
      "\n",
      " Outliers percentage :  9.733832997021235\n"
     ]
    },
    {
     "data": {
      "image/png": "[encoded data removed]",
      "text/plain": [
       "<Figure size 1200x500 with 2 Axes>"
      ]
     },
     "metadata": {},
     "output_type": "display_data"
    },
    {
     "name": "stdout",
     "output_type": "stream",
     "text": [
      "density_Total\n",
      "\n",
      " Outliers percentage :  8.311713269914481\n"
     ]
    },
    {
     "data": {
      "image/png": "[encoded data removed]",
      "text/plain": [
       "<Figure size 1200x500 with 2 Axes>"
      ]
     },
     "metadata": {},
     "output_type": "display_data"
    },
    {
     "name": "stdout",
     "output_type": "stream",
     "text": [
      "allelectrons_Average\n",
      "\n",
      " Outliers percentage :  5.736523493802249\n"
     ]
    },
    {
     "data": {
      "image/png": "[encoded data removed]",
      "text/plain": [
       "<Figure size 1200x500 with 2 Axes>"
      ]
     },
     "metadata": {},
     "output_type": "display_data"
    },
    {
     "name": "stdout",
     "output_type": "stream",
     "text": [
      "val_e_Average\n",
      "\n",
      " Outliers percentage :  1.8641299125588546\n"
     ]
    },
    {
     "data": {
      "image/png": "[encoded data removed]",
      "text/plain": [
       "<Figure size 1200x500 with 2 Axes>"
      ]
     },
     "metadata": {},
     "output_type": "display_data"
    },
    {
     "name": "stdout",
     "output_type": "stream",
     "text": [
      "atomicweight_Average\n",
      "\n",
      " Outliers percentage :  6.399538771980398\n"
     ]
    },
    {
     "data": {
      "image/png": "[encoded data removed]",
      "text/plain": [
       "<Figure size 1200x500 with 2 Axes>"
      ]
     },
     "metadata": {},
     "output_type": "display_data"
    },
    {
     "name": "stdout",
     "output_type": "stream",
     "text": [
      "ionenergy_Average\n",
      "\n",
      " Outliers percentage :  5.947919669453253\n"
     ]
    },
    {
     "data": {
      "image/png": "[encoded data removed]",
      "text/plain": [
       "<Figure size 1200x500 with 2 Axes>"
      ]
     },
     "metadata": {},
     "output_type": "display_data"
    },
    {
     "name": "stdout",
     "output_type": "stream",
     "text": [
      "el_neg_chi_Average\n",
      "\n",
      " Outliers percentage :  7.283559142884596\n"
     ]
    },
    {
     "data": {
      "image/png": "[encoded data removed]",
      "text/plain": [
       "<Figure size 1200x500 with 2 Axes>"
      ]
     },
     "metadata": {},
     "output_type": "display_data"
    },
    {
     "name": "stdout",
     "output_type": "stream",
     "text": [
      "R_vdw_element_Average\n",
      "\n",
      " Outliers percentage :  7.0049005477082735\n"
     ]
    },
    {
     "data": {
      "image/png": "[encoded data removed]",
      "text/plain": [
       "<Figure size 1200x500 with 2 Axes>"
      ]
     },
     "metadata": {},
     "output_type": "display_data"
    },
    {
     "name": "stdout",
     "output_type": "stream",
     "text": [
      "R_cov_element_Average\n",
      "\n",
      " Outliers percentage :  17.959066013260305\n"
     ]
    },
    {
     "data": {
      "image/png": "[encoded data removed]",
      "text/plain": [
       "<Figure size 1200x500 with 2 Axes>"
      ]
     },
     "metadata": {},
     "output_type": "display_data"
    },
    {
     "name": "stdout",
     "output_type": "stream",
     "text": [
      "zaratio_Average\n",
      "\n",
      " Outliers percentage :  14.711252041894879\n"
     ]
    },
    {
     "data": {
      "image/png": "[encoded data removed]",
      "text/plain": [
       "<Figure size 1200x500 with 2 Axes>"
      ]
     },
     "metadata": {},
     "output_type": "display_data"
    },
    {
     "name": "stdout",
     "output_type": "stream",
     "text": [
      "density_Average\n",
      "\n",
      " Outliers percentage :  7.54299990391083\n"
     ]
    },
    {
     "data": {
      "image/png": "[encoded data removed]",
      "text/plain": [
       "<Figure size 1200x500 with 2 Axes>"
      ]
     },
     "metadata": {},
     "output_type": "display_data"
    },
    {
     "name": "stdout",
     "output_type": "stream",
     "text": [
      "Hardness\n",
      "\n",
      " Outliers percentage :  0.0\n"
     ]
    },
    {
     "data": {
      "image/png": "[encoded data removed]",
      "text/plain": [
       "<Figure size 1200x500 with 2 Axes>"
      ]
     },
     "metadata": {},
     "output_type": "display_data"
    }
   ],
   "source": [
    "dis_outliers(df)"
   ]
  },
  {
   "cell_type": "code",
   "execution_count": 12,
   "id": "0ec67230",
   "metadata": {
    "execution": {
     "iopub.execute_input": "2023-11-30T06:46:59.562606Z",
     "iopub.status.busy": "2023-11-30T06:46:59.562277Z",
     "iopub.status.idle": "2023-11-30T06:46:59.761480Z",
     "shell.execute_reply": "2023-11-30T06:46:59.760449Z"
    },
    "papermill": {
     "duration": 0.218586,
     "end_time": "2023-11-30T06:46:59.764412",
     "exception": false,
     "start_time": "2023-11-30T06:46:59.545826",
     "status": "completed"
    },
    "tags": []
   },
   "outputs": [],
   "source": [
    "from sklearn.preprocessing import StandardScaler\n",
    "scaler = StandardScaler()\n",
    "fdf=df.drop('Hardness',axis=1) # features from train data\n",
    "scdf= scaler.fit_transform(fdf) # scaled features from train data\n",
    "tdf= scaler.transform(test)  # scaled features from test data\n",
    "scaled_df= pd.DataFrame(scdf,columns = fdf.columns) # scaled features into dataframe\n",
    "scaled_test= pd.DataFrame(tdf,columns = test.columns) # scaled features into dataframe"
   ]
  },
  {
   "cell_type": "code",
   "execution_count": 13,
   "id": "b9e9167b",
   "metadata": {
    "execution": {
     "iopub.execute_input": "2023-11-30T06:46:59.805594Z",
     "iopub.status.busy": "2023-11-30T06:46:59.804416Z",
     "iopub.status.idle": "2023-11-30T06:47:20.075475Z",
     "shell.execute_reply": "2023-11-30T06:47:20.074600Z"
    },
    "papermill": {
     "duration": 20.290324,
     "end_time": "2023-11-30T06:47:20.077191",
     "exception": false,
     "start_time": "2023-11-30T06:46:59.786867",
     "status": "completed"
    },
    "tags": []
   },
   "outputs": [
    {
     "name": "stdout",
     "output_type": "stream",
     "text": [
      "Collecting xgboost\r\n",
      "  Downloading xgboost-2.0.2-py3-none-manylinux2014_x86_64.whl (297.1 MB)\r\n",
      "\u001b[2K     \u001b[90m━━━━━━━━━━━━━━━━━━━━━━━━━━━━━━━━━━━━━━━\u001b[0m \u001b[32m297.1/297.1 MB\u001b[0m \u001b[31m1.3 MB/s\u001b[0m eta \u001b[36m0:00:00\u001b[0m\r\n",
      "\u001b[?25hRequirement already satisfied: numpy in /usr/local/lib/python3.10/site-packages (from xgboost) (1.26.1)\r\n",
      "Requirement already satisfied: scipy in /usr/local/lib/python3.10/site-packages (from xgboost) (1.11.3)\r\n",
      "Installing collected packages: xgboost\r\n",
      "Successfully installed xgboost-2.0.2\r\n",
      "\u001b[33mWARNING: Running pip as the 'root' user can result in broken permissions and conflicting behaviour with the system package manager. It is recommended to use a virtual environment instead: https://pip.pypa.io/warnings/venv\u001b[0m\u001b[33m\r\n",
      "\u001b[0m\r\n",
      "\u001b[1m[\u001b[0m\u001b[34;49mnotice\u001b[0m\u001b[1;39;49m]\u001b[0m\u001b[39;49m A new release of pip is available: \u001b[0m\u001b[31;49m23.0.1\u001b[0m\u001b[39;49m -> \u001b[0m\u001b[32;49m23.3.1\u001b[0m\r\n",
      "\u001b[1m[\u001b[0m\u001b[34;49mnotice\u001b[0m\u001b[1;39;49m]\u001b[0m\u001b[39;49m To update, run: \u001b[0m\u001b[32;49mpip install --upgrade pip\u001b[0m\r\n",
      "Note: you may need to restart the kernel to use updated packages.\n"
     ]
    }
   ],
   "source": [
    "pip install xgboost"
   ]
  },
  {
   "cell_type": "code",
   "execution_count": 14,
   "id": "fa37fd22",
   "metadata": {
    "execution": {
     "iopub.execute_input": "2023-11-30T06:47:20.129437Z",
     "iopub.status.busy": "2023-11-30T06:47:20.129092Z",
     "iopub.status.idle": "2023-11-30T06:47:41.565969Z",
     "shell.execute_reply": "2023-11-30T06:47:41.565040Z"
    },
    "papermill": {
     "duration": 21.464605,
     "end_time": "2023-11-30T06:47:41.567778",
     "exception": false,
     "start_time": "2023-11-30T06:47:20.103173",
     "status": "completed"
    },
    "tags": []
   },
   "outputs": [
    {
     "name": "stdout",
     "output_type": "stream",
     "text": [
      "Collecting catboost\r\n",
      "  Downloading catboost-1.2.2-cp310-cp310-manylinux2014_x86_64.whl (98.7 MB)\r\n",
      "\u001b[2K     \u001b[90m━━━━━━━━━━━━━━━━━━━━━━━━━━━━━━━━━━━━━━━━\u001b[0m \u001b[32m98.7/98.7 MB\u001b[0m \u001b[31m7.2 MB/s\u001b[0m eta \u001b[36m0:00:00\u001b[0m\r\n",
      "\u001b[?25hCollecting lightgbm\r\n",
      "  Downloading lightgbm-4.1.0-py3-none-manylinux_2_28_x86_64.whl (3.1 MB)\r\n",
      "\u001b[2K     \u001b[90m━━━━━━━━━━━━━━━━━━━━━━━━━━━━━━━━━━━━━━━━\u001b[0m \u001b[32m3.1/3.1 MB\u001b[0m \u001b[31m66.8 MB/s\u001b[0m eta \u001b[36m0:00:00\u001b[0m\r\n",
      "\u001b[?25hRequirement already satisfied: six in /usr/local/lib/python3.10/site-packages (from catboost) (1.16.0)\r\n",
      "Requirement already satisfied: scipy in /usr/local/lib/python3.10/site-packages (from catboost) (1.11.3)\r\n",
      "Collecting plotly\r\n",
      "  Downloading plotly-5.18.0-py3-none-any.whl (15.6 MB)\r\n",
      "\u001b[2K     \u001b[90m━━━━━━━━━━━━━━━━━━━━━━━━━━━━━━━━━━━━━━━━\u001b[0m \u001b[32m15.6/15.6 MB\u001b[0m \u001b[31m64.2 MB/s\u001b[0m eta \u001b[36m0:00:00\u001b[0m\r\n",
      "\u001b[?25hRequirement already satisfied: pandas>=0.24 in /usr/local/lib/python3.10/site-packages (from catboost) (2.1.3)\r\n",
      "Requirement already satisfied: matplotlib in /usr/local/lib/python3.10/site-packages (from catboost) (3.8.1)\r\n",
      "Collecting graphviz\r\n",
      "  Downloading graphviz-0.20.1-py3-none-any.whl (47 kB)\r\n",
      "\u001b[2K     \u001b[90m━━━━━━━━━━━━━━━━━━━━━━━━━━━━━━━━━━━━━━━━\u001b[0m \u001b[32m47.0/47.0 kB\u001b[0m \u001b[31m3.7 MB/s\u001b[0m eta \u001b[36m0:00:00\u001b[0m\r\n",
      "\u001b[?25hRequirement already satisfied: numpy>=1.16.0 in /usr/local/lib/python3.10/site-packages (from catboost) (1.26.1)\r\n",
      "Requirement already satisfied: python-dateutil>=2.8.2 in /usr/local/lib/python3.10/site-packages (from pandas>=0.24->catboost) (2.8.2)\r\n",
      "Requirement already satisfied: tzdata>=2022.1 in /usr/local/lib/python3.10/site-packages (from pandas>=0.24->catboost) (2023.3)\r\n",
      "Requirement already satisfied: pytz>=2020.1 in /usr/local/lib/python3.10/site-packages (from pandas>=0.24->catboost) (2023.3.post1)\r\n",
      "Requirement already satisfied: contourpy>=1.0.1 in /usr/local/lib/python3.10/site-packages (from matplotlib->catboost) (1.2.0)\r\n",
      "Requirement already satisfied: packaging>=20.0 in /usr/local/lib/python3.10/site-packages (from matplotlib->catboost) (23.2)\r\n",
      "Requirement already satisfied: cycler>=0.10 in /usr/local/lib/python3.10/site-packages (from matplotlib->catboost) (0.12.1)\r\n",
      "Requirement already satisfied: pillow>=8 in /usr/local/lib/python3.10/site-packages (from matplotlib->catboost) (10.1.0)\r\n",
      "Requirement already satisfied: kiwisolver>=1.3.1 in /usr/local/lib/python3.10/site-packages (from matplotlib->catboost) (1.4.5)\r\n",
      "Requirement already satisfied: pyparsing>=2.3.1 in /usr/local/lib/python3.10/site-packages (from matplotlib->catboost) (3.1.1)\r\n",
      "Requirement already satisfied: fonttools>=4.22.0 in /usr/local/lib/python3.10/site-packages (from matplotlib->catboost) (4.44.0)\r\n",
      "Requirement already satisfied: tenacity>=6.2.0 in /usr/local/lib/python3.10/site-packages (from plotly->catboost) (8.2.3)\r\n",
      "Installing collected packages: plotly, graphviz, lightgbm, catboost\r\n",
      "Successfully installed catboost-1.2.2 graphviz-0.20.1 lightgbm-4.1.0 plotly-5.18.0\r\n",
      "\u001b[33mWARNING: Running pip as the 'root' user can result in broken permissions and conflicting behaviour with the system package manager. It is recommended to use a virtual environment instead: https://pip.pypa.io/warnings/venv\u001b[0m\u001b[33m\r\n",
      "\u001b[0m\r\n",
      "\u001b[1m[\u001b[0m\u001b[34;49mnotice\u001b[0m\u001b[1;39;49m]\u001b[0m\u001b[39;49m A new release of pip is available: \u001b[0m\u001b[31;49m23.0.1\u001b[0m\u001b[39;49m -> \u001b[0m\u001b[32;49m23.3.1\u001b[0m\r\n",
      "\u001b[1m[\u001b[0m\u001b[34;49mnotice\u001b[0m\u001b[1;39;49m]\u001b[0m\u001b[39;49m To update, run: \u001b[0m\u001b[32;49mpip install --upgrade pip\u001b[0m\r\n",
      "Note: you may need to restart the kernel to use updated packages.\n"
     ]
    }
   ],
   "source": [
    "pip install catboost lightgbm"
   ]
  },
  {
   "cell_type": "code",
   "execution_count": 15,
   "id": "61bf649d",
   "metadata": {
    "execution": {
     "iopub.execute_input": "2023-11-30T06:47:41.625713Z",
     "iopub.status.busy": "2023-11-30T06:47:41.625348Z",
     "iopub.status.idle": "2023-11-30T06:47:45.519840Z",
     "shell.execute_reply": "2023-11-30T06:47:45.519003Z"
    },
    "papermill": {
     "duration": 3.92574,
     "end_time": "2023-11-30T06:47:45.522102",
     "exception": false,
     "start_time": "2023-11-30T06:47:41.596362",
     "status": "completed"
    },
    "tags": []
   },
   "outputs": [],
   "source": [
    "from sklearn.model_selection import GridSearchCV\n",
    "from sklearn.ensemble import RandomForestRegressor, GradientBoostingRegressor\n",
    "from sklearn.tree import DecisionTreeRegressor\n",
    "from sklearn.linear_model import LinearRegression, Ridge, Lasso\n",
    "from sklearn.metrics import mean_absolute_error, make_scorer\n",
    "from sklearn.model_selection import train_test_split\n",
    "from sklearn.model_selection import cross_val_score\n",
    "from sklearn.neighbors import KNeighborsRegressor\n",
    "from xgboost import XGBRegressor\n",
    "from sklearn.svm import SVR\n",
    "from catboost import CatBoostRegressor\n",
    "from lightgbm import LGBMRegressor"
   ]
  },
  {
   "cell_type": "code",
   "execution_count": 16,
   "id": "61e0df5c",
   "metadata": {
    "execution": {
     "iopub.execute_input": "2023-11-30T06:47:45.578448Z",
     "iopub.status.busy": "2023-11-30T06:47:45.578191Z",
     "iopub.status.idle": "2023-11-30T06:47:45.582180Z",
     "shell.execute_reply": "2023-11-30T06:47:45.581503Z"
    },
    "papermill": {
     "duration": 0.033807,
     "end_time": "2023-11-30T06:47:45.583694",
     "exception": false,
     "start_time": "2023-11-30T06:47:45.549887",
     "status": "completed"
    },
    "tags": []
   },
   "outputs": [],
   "source": [
    "X_train = scaled_df\n",
    "X_test= scaled_test\n",
    "y_train=df['Hardness']"
   ]
  },
  {
   "cell_type": "markdown",
   "id": "34225179",
   "metadata": {
    "papermill": {
     "duration": 0.027155,
     "end_time": "2023-11-30T06:47:45.638166",
     "exception": false,
     "start_time": "2023-11-30T06:47:45.611011",
     "status": "completed"
    },
    "tags": []
   },
   "source": [
    "## Training Data Base Models"
   ]
  },
  {
   "cell_type": "code",
   "execution_count": 17,
   "id": "c873dfca",
   "metadata": {
    "execution": {
     "iopub.execute_input": "2023-11-30T06:47:45.693916Z",
     "iopub.status.busy": "2023-11-30T06:47:45.693646Z",
     "iopub.status.idle": "2023-11-30T06:47:45.698620Z",
     "shell.execute_reply": "2023-11-30T06:47:45.697987Z"
    },
    "papermill": {
     "duration": 0.034921,
     "end_time": "2023-11-30T06:47:45.700206",
     "exception": false,
     "start_time": "2023-11-30T06:47:45.665285",
     "status": "completed"
    },
    "tags": []
   },
   "outputs": [],
   "source": [
    "def evaluate_models(models, features, target, scoring_metric):\n",
    "    results = {}\n",
    "    for model_name, model in models.items():\n",
    "        cv_results = cross_val_score(model, features, target, cv=5, scoring=make_scorer(scoring_metric, greater_is_better=False))\n",
    "        mean_score = -cv_results.mean()\n",
    "        results[model_name] = mean_score\n",
    "    return results"
   ]
  },
  {
   "cell_type": "code",
   "execution_count": 18,
   "id": "52a0e4aa",
   "metadata": {
    "execution": {
     "iopub.execute_input": "2023-11-30T06:47:45.755942Z",
     "iopub.status.busy": "2023-11-30T06:47:45.755692Z",
     "iopub.status.idle": "2023-11-30T06:48:57.488955Z",
     "shell.execute_reply": "2023-11-30T06:48:57.487838Z"
    },
    "papermill": {
     "duration": 71.79481,
     "end_time": "2023-11-30T06:48:57.522283",
     "exception": false,
     "start_time": "2023-11-30T06:47:45.727473",
     "status": "completed"
    },
    "tags": []
   },
   "outputs": [
    {
     "name": "stdout",
     "output_type": "stream",
     "text": [
      "Random Forest: 0.9075316156232486\n",
      "Linear Regression: 1.1785928182896817\n",
      "Decision Tree: 1.2002510768256411\n",
      "XGBoost: 0.9358934360205335\n",
      "SVR: 0.9548307874918243\n",
      "Ridge: 1.178612304771915\n",
      "Lasso: 1.4904885829647214\n",
      "KNN: 1.0023442632924668\n",
      "LGBM: 0.8963538105898593\n",
      "CatB: 0.9007113155266693\n"
     ]
    }
   ],
   "source": [
    "models = {\n",
    "    'Random Forest': RandomForestRegressor(),\n",
    "    'Linear Regression': LinearRegression(),\n",
    "    'Decision Tree': DecisionTreeRegressor(),\n",
    "    'XGBoost': XGBRegressor(),\n",
    "    'SVR': SVR(),\n",
    "    'Ridge': Ridge(),\n",
    "    'Lasso': Lasso(),\n",
    "    'KNN': KNeighborsRegressor(),\n",
    "    'LGBM':LGBMRegressor(verbose=-1),\n",
    "    'CatB':CatBoostRegressor(logging_level='Silent')\n",
    "}\n",
    "results = evaluate_models(models,scaled_df,df['Hardness'],mean_absolute_error)\n",
    "for model_name, score in results.items():\n",
    "    print(f\"{model_name}: {score}\")"
   ]
  },
  {
   "cell_type": "markdown",
   "id": "abb5b6b7",
   "metadata": {
    "papermill": {
     "duration": 0.02695,
     "end_time": "2023-11-30T06:48:57.576723",
     "exception": false,
     "start_time": "2023-11-30T06:48:57.549773",
     "status": "completed"
    },
    "tags": []
   },
   "source": [
    "## Tuning 1 by 1 on top 4 performers"
   ]
  },
  {
   "cell_type": "code",
   "execution_count": 19,
   "id": "f3f58a82",
   "metadata": {
    "execution": {
     "iopub.execute_input": "2023-11-30T06:48:57.633407Z",
     "iopub.status.busy": "2023-11-30T06:48:57.633089Z",
     "iopub.status.idle": "2023-11-30T06:48:57.637055Z",
     "shell.execute_reply": "2023-11-30T06:48:57.636344Z"
    },
    "papermill": {
     "duration": 0.034538,
     "end_time": "2023-11-30T06:48:57.638862",
     "exception": false,
     "start_time": "2023-11-30T06:48:57.604324",
     "status": "completed"
    },
    "tags": []
   },
   "outputs": [],
   "source": [
    "features=scaled_df\n",
    "target=df['Hardness']"
   ]
  },
  {
   "cell_type": "code",
   "execution_count": 20,
   "id": "ed3aef14",
   "metadata": {
    "execution": {
     "iopub.execute_input": "2023-11-30T06:48:57.694747Z",
     "iopub.status.busy": "2023-11-30T06:48:57.694490Z",
     "iopub.status.idle": "2023-11-30T06:48:57.699388Z",
     "shell.execute_reply": "2023-11-30T06:48:57.698597Z"
    },
    "papermill": {
     "duration": 0.034591,
     "end_time": "2023-11-30T06:48:57.700849",
     "exception": false,
     "start_time": "2023-11-30T06:48:57.666258",
     "status": "completed"
    },
    "tags": []
   },
   "outputs": [],
   "source": [
    "def best_para(model,param_grid):\n",
    "    grid_search = GridSearchCV(estimator=model,\n",
    "                               param_grid=param_grid,\n",
    "                               scoring=make_scorer(mean_absolute_error, greater_is_better=False),\n",
    "                               cv=5)\n",
    "    grid_search.fit(features, target)\n",
    "    if grid_search.best_params_ is not None and grid_search.best_score_ is not None:\n",
    "        return grid_search.best_params_, -grid_search.best_score_\n",
    "    else:\n",
    "        return None, None"
   ]
  },
  {
   "cell_type": "markdown",
   "id": "f57951e1",
   "metadata": {
    "papermill": {
     "duration": 0.027117,
     "end_time": "2023-11-30T06:48:57.755023",
     "exception": false,
     "start_time": "2023-11-30T06:48:57.727906",
     "status": "completed"
    },
    "tags": []
   },
   "source": [
    "## CatBoost"
   ]
  },
  {
   "cell_type": "code",
   "execution_count": 21,
   "id": "a0158138",
   "metadata": {
    "execution": {
     "iopub.execute_input": "2023-11-30T06:48:57.811514Z",
     "iopub.status.busy": "2023-11-30T06:48:57.811284Z",
     "iopub.status.idle": "2023-11-30T06:49:13.558399Z",
     "shell.execute_reply": "2023-11-30T06:49:13.557415Z"
    },
    "papermill": {
     "duration": 15.777518,
     "end_time": "2023-11-30T06:49:13.560404",
     "exception": false,
     "start_time": "2023-11-30T06:48:57.782886",
     "status": "completed"
    },
    "tags": []
   },
   "outputs": [
    {
     "name": "stdout",
     "output_type": "stream",
     "text": [
      "{'iterations': 200, 'learning_rate': 0.2}\n",
      "0.9101822236134115\n"
     ]
    }
   ],
   "source": [
    "param_grid = {\n",
    "    'iterations': [50, 100, 200],\n",
    "    'learning_rate': [0.05, 0.1, 0.2]\n",
    "}\n",
    "cat_params,score= best_para(CatBoostRegressor(logging_level='Silent'),param_grid)\n",
    "print(cat_params)\n",
    "print(score)"
   ]
  },
  {
   "cell_type": "markdown",
   "id": "14ec6769",
   "metadata": {
    "papermill": {
     "duration": 0.02773,
     "end_time": "2023-11-30T06:49:13.620416",
     "exception": false,
     "start_time": "2023-11-30T06:49:13.592686",
     "status": "completed"
    },
    "tags": []
   },
   "source": [
    "## LGBM"
   ]
  },
  {
   "cell_type": "code",
   "execution_count": 22,
   "id": "209bffcc",
   "metadata": {
    "execution": {
     "iopub.execute_input": "2023-11-30T06:49:13.680652Z",
     "iopub.status.busy": "2023-11-30T06:49:13.680278Z",
     "iopub.status.idle": "2023-11-30T06:50:03.357923Z",
     "shell.execute_reply": "2023-11-30T06:50:03.357027Z"
    },
    "papermill": {
     "duration": 49.743345,
     "end_time": "2023-11-30T06:50:03.392102",
     "exception": false,
     "start_time": "2023-11-30T06:49:13.648757",
     "status": "completed"
    },
    "tags": []
   },
   "outputs": [
    {
     "name": "stdout",
     "output_type": "stream",
     "text": [
      "{'boosting_type': 'gbdt', 'learning_rate': 0.1, 'n_estimators': 100}\n",
      "0.8963538105898593\n"
     ]
    }
   ],
   "source": [
    "param_grid = {\n",
    "    'boosting_type': ['gbdt', 'dart', 'goss'],  # Different boosting types\n",
    "    'learning_rate': [0.05, 0.1, 0.2],  # Learning rate\n",
    "    'n_estimators': [50, 100, 200]  # Number of boosting rounds\n",
    "}\n",
    "lb_params,score= best_para(LGBMRegressor(verbose=-1),param_grid)\n",
    "print(lb_params)\n",
    "print(score)"
   ]
  },
  {
   "cell_type": "markdown",
   "id": "72e51ce9",
   "metadata": {
    "papermill": {
     "duration": 0.027907,
     "end_time": "2023-11-30T06:50:03.447762",
     "exception": false,
     "start_time": "2023-11-30T06:50:03.419855",
     "status": "completed"
    },
    "tags": []
   },
   "source": [
    "## XGBoost"
   ]
  },
  {
   "cell_type": "code",
   "execution_count": 23,
   "id": "6f16c3ff",
   "metadata": {
    "execution": {
     "iopub.execute_input": "2023-11-30T06:50:03.504272Z",
     "iopub.status.busy": "2023-11-30T06:50:03.503970Z",
     "iopub.status.idle": "2023-11-30T06:51:26.165357Z",
     "shell.execute_reply": "2023-11-30T06:51:26.164480Z"
    },
    "papermill": {
     "duration": 82.714315,
     "end_time": "2023-11-30T06:51:26.189481",
     "exception": false,
     "start_time": "2023-11-30T06:50:03.475166",
     "status": "completed"
    },
    "tags": []
   },
   "outputs": [
    {
     "name": "stdout",
     "output_type": "stream",
     "text": [
      "{'gamma': 0, 'learning_rate': 0.1, 'n_estimators': 100}\n",
      "0.9053579967715241\n"
     ]
    }
   ],
   "source": [
    "param_grid = {\n",
    "    'learning_rate': [0.01, 0.1, 0.2],\n",
    "    'n_estimators': [50, 100, 200],\n",
    "    'gamma': [0, 0.1, 0.5]\n",
    "}\n",
    "xg_params,score= best_para(XGBRegressor(),param_grid)\n",
    "print(xg_params)\n",
    "print(score)"
   ]
  },
  {
   "cell_type": "markdown",
   "id": "9f239aa7",
   "metadata": {
    "papermill": {
     "duration": 0.032624,
     "end_time": "2023-11-30T06:51:26.255519",
     "exception": false,
     "start_time": "2023-11-30T06:51:26.222895",
     "status": "completed"
    },
    "tags": []
   },
   "source": [
    "## Random Forest"
   ]
  },
  {
   "cell_type": "code",
   "execution_count": 24,
   "id": "de72b12c",
   "metadata": {
    "execution": {
     "iopub.execute_input": "2023-11-30T06:51:26.323417Z",
     "iopub.status.busy": "2023-11-30T06:51:26.322370Z",
     "iopub.status.idle": "2023-11-30T06:58:27.906094Z",
     "shell.execute_reply": "2023-11-30T06:58:27.905351Z"
    },
    "papermill": {
     "duration": 421.646303,
     "end_time": "2023-11-30T06:58:27.936245",
     "exception": false,
     "start_time": "2023-11-30T06:51:26.289942",
     "status": "completed"
    },
    "tags": []
   },
   "outputs": [
    {
     "name": "stdout",
     "output_type": "stream",
     "text": [
      "{'max_depth': 20, 'n_estimators': 200}\n",
      "0.9045892067933853\n"
     ]
    }
   ],
   "source": [
    "param_grid = {\n",
    "    'n_estimators': [50, 100, 200],\n",
    "    'max_depth': [None, 10, 20, 30],\n",
    "}\n",
    "rf_params,score= best_para(RandomForestRegressor(),param_grid)\n",
    "print(rf_params)\n",
    "print(score)"
   ]
  },
  {
   "cell_type": "markdown",
   "id": "aa1ae088",
   "metadata": {
    "papermill": {
     "duration": 0.027118,
     "end_time": "2023-11-30T06:58:27.991142",
     "exception": false,
     "start_time": "2023-11-30T06:58:27.964024",
     "status": "completed"
    },
    "tags": []
   },
   "source": [
    "## Final Predictions"
   ]
  },
  {
   "cell_type": "markdown",
   "id": "cf6dec69",
   "metadata": {
    "papermill": {
     "duration": 0.029013,
     "end_time": "2023-11-30T06:58:28.047591",
     "exception": false,
     "start_time": "2023-11-30T06:58:28.018578",
     "status": "completed"
    },
    "tags": []
   },
   "source": [
    "#### CatBoost"
   ]
  },
  {
   "cell_type": "code",
   "execution_count": 25,
   "id": "0cfe366a",
   "metadata": {
    "execution": {
     "iopub.execute_input": "2023-11-30T06:58:28.110905Z",
     "iopub.status.busy": "2023-11-30T06:58:28.110607Z",
     "iopub.status.idle": "2023-11-30T06:58:28.727470Z",
     "shell.execute_reply": "2023-11-30T06:58:28.726613Z"
    },
    "papermill": {
     "duration": 0.651481,
     "end_time": "2023-11-30T06:58:28.729702",
     "exception": false,
     "start_time": "2023-11-30T06:58:28.078221",
     "status": "completed"
    },
    "tags": []
   },
   "outputs": [],
   "source": [
    "model_cat= CatBoostRegressor(logging_level='Silent',**cat_params)\n",
    "model_cat.fit(X_train,y_train)\n",
    "predict_cat=model_cat.predict(X_test)"
   ]
  },
  {
   "cell_type": "markdown",
   "id": "53619286",
   "metadata": {
    "papermill": {
     "duration": 0.027391,
     "end_time": "2023-11-30T06:58:28.789295",
     "exception": false,
     "start_time": "2023-11-30T06:58:28.761904",
     "status": "completed"
    },
    "tags": []
   },
   "source": [
    "#### LGBM"
   ]
  },
  {
   "cell_type": "code",
   "execution_count": 26,
   "id": "5656d352",
   "metadata": {
    "execution": {
     "iopub.execute_input": "2023-11-30T06:58:28.846287Z",
     "iopub.status.busy": "2023-11-30T06:58:28.846021Z",
     "iopub.status.idle": "2023-11-30T06:58:29.200621Z",
     "shell.execute_reply": "2023-11-30T06:58:29.199688Z"
    },
    "papermill": {
     "duration": 0.386733,
     "end_time": "2023-11-30T06:58:29.203601",
     "exception": false,
     "start_time": "2023-11-30T06:58:28.816868",
     "status": "completed"
    },
    "tags": []
   },
   "outputs": [],
   "source": [
    "model_lb= LGBMRegressor(verbose=-1,**lb_params)\n",
    "model_lb.fit(X_train,y_train)\n",
    "predict_lb=model_lb.predict(X_test)"
   ]
  },
  {
   "cell_type": "markdown",
   "id": "b669ce90",
   "metadata": {
    "papermill": {
     "duration": 0.028818,
     "end_time": "2023-11-30T06:58:29.280666",
     "exception": false,
     "start_time": "2023-11-30T06:58:29.251848",
     "status": "completed"
    },
    "tags": []
   },
   "source": [
    "#### XGBoost"
   ]
  },
  {
   "cell_type": "code",
   "execution_count": 27,
   "id": "c7f742c2",
   "metadata": {
    "execution": {
     "iopub.execute_input": "2023-11-30T06:58:29.341003Z",
     "iopub.status.busy": "2023-11-30T06:58:29.340089Z",
     "iopub.status.idle": "2023-11-30T06:58:29.864366Z",
     "shell.execute_reply": "2023-11-30T06:58:29.863140Z"
    },
    "papermill": {
     "duration": 0.557372,
     "end_time": "2023-11-30T06:58:29.866831",
     "exception": false,
     "start_time": "2023-11-30T06:58:29.309459",
     "status": "completed"
    },
    "tags": []
   },
   "outputs": [],
   "source": [
    "model_xg= XGBRegressor(**xg_params)\n",
    "model_xg.fit(X_train,y_train)\n",
    "predict_xg=model_xg.predict(X_test)"
   ]
  },
  {
   "cell_type": "markdown",
   "id": "be9996d8",
   "metadata": {
    "papermill": {
     "duration": 0.032565,
     "end_time": "2023-11-30T06:58:29.932180",
     "exception": false,
     "start_time": "2023-11-30T06:58:29.899615",
     "status": "completed"
    },
    "tags": []
   },
   "source": [
    "#### Random Forest"
   ]
  },
  {
   "cell_type": "code",
   "execution_count": 28,
   "id": "17efbbfa",
   "metadata": {
    "execution": {
     "iopub.execute_input": "2023-11-30T06:58:29.994525Z",
     "iopub.status.busy": "2023-11-30T06:58:29.994152Z",
     "iopub.status.idle": "2023-11-30T06:58:45.072638Z",
     "shell.execute_reply": "2023-11-30T06:58:45.071622Z"
    },
    "papermill": {
     "duration": 15.111305,
     "end_time": "2023-11-30T06:58:45.074717",
     "exception": false,
     "start_time": "2023-11-30T06:58:29.963412",
     "status": "completed"
    },
    "tags": []
   },
   "outputs": [],
   "source": [
    "model_rf= RandomForestRegressor(**rf_params)\n",
    "model_rf.fit(X_train,y_train)\n",
    "predict_rf=model_rf.predict(X_test)"
   ]
  },
  {
   "cell_type": "code",
   "execution_count": 29,
   "id": "b7239ee6",
   "metadata": {
    "execution": {
     "iopub.execute_input": "2023-11-30T06:58:45.132816Z",
     "iopub.status.busy": "2023-11-30T06:58:45.132385Z",
     "iopub.status.idle": "2023-11-30T06:58:45.137302Z",
     "shell.execute_reply": "2023-11-30T06:58:45.136535Z"
    },
    "papermill": {
     "duration": 0.035774,
     "end_time": "2023-11-30T06:58:45.139014",
     "exception": false,
     "start_time": "2023-11-30T06:58:45.103240",
     "status": "completed"
    },
    "tags": []
   },
   "outputs": [],
   "source": [
    "avg_predictions = (predict_rf + predict_lb + predict_xg + predict_cat)/4"
   ]
  },
  {
   "cell_type": "code",
   "execution_count": 30,
   "id": "cbe1bdf7",
   "metadata": {
    "execution": {
     "iopub.execute_input": "2023-11-30T06:58:45.196412Z",
     "iopub.status.busy": "2023-11-30T06:58:45.195656Z",
     "iopub.status.idle": "2023-11-30T06:58:45.217654Z",
     "shell.execute_reply": "2023-11-30T06:58:45.216951Z"
    },
    "papermill": {
     "duration": 0.0527,
     "end_time": "2023-11-30T06:58:45.219443",
     "exception": false,
     "start_time": "2023-11-30T06:58:45.166743",
     "status": "completed"
    },
    "tags": []
   },
   "outputs": [],
   "source": [
    "submission['Hardness']=avg_predictions\n",
    "submission.to_csv('submission.csv', index=False)"
   ]
  },
  {
   "cell_type": "code",
   "execution_count": 31,
   "id": "57de6506",
   "metadata": {
    "execution": {
     "iopub.execute_input": "2023-11-30T06:58:45.276102Z",
     "iopub.status.busy": "2023-11-30T06:58:45.275860Z",
     "iopub.status.idle": "2023-11-30T06:58:45.286573Z",
     "shell.execute_reply": "2023-11-30T06:58:45.285900Z"
    },
    "papermill": {
     "duration": 0.041268,
     "end_time": "2023-11-30T06:58:45.288491",
     "exception": false,
     "start_time": "2023-11-30T06:58:45.247223",
     "status": "completed"
    },
    "tags": []
   },
   "outputs": [
    {
     "data": {
      "text/html": [
       "<div>\n",
       "<style scoped>\n",
       "    .dataframe tbody tr th:only-of-type {\n",
       "        vertical-align: middle;\n",
       "    }\n",
       "\n",
       "    .dataframe tbody tr th {\n",
       "        vertical-align: top;\n",
       "    }\n",
       "\n",
       "    .dataframe thead th {\n",
       "        text-align: right;\n",
       "    }\n",
       "</style>\n",
       "<table border=\"1\" class=\"dataframe\">\n",
       "  <thead>\n",
       "    <tr style=\"text-align: right;\">\n",
       "      <th></th>\n",
       "      <th>id</th>\n",
       "      <th>Hardness</th>\n",
       "    </tr>\n",
       "  </thead>\n",
       "  <tbody>\n",
       "    <tr>\n",
       "      <th>0</th>\n",
       "      <td>10407</td>\n",
       "      <td>2.713400</td>\n",
       "    </tr>\n",
       "    <tr>\n",
       "      <th>1</th>\n",
       "      <td>10408</td>\n",
       "      <td>2.706321</td>\n",
       "    </tr>\n",
       "    <tr>\n",
       "      <th>2</th>\n",
       "      <td>10409</td>\n",
       "      <td>5.771029</td>\n",
       "    </tr>\n",
       "    <tr>\n",
       "      <th>3</th>\n",
       "      <td>10410</td>\n",
       "      <td>4.228532</td>\n",
       "    </tr>\n",
       "    <tr>\n",
       "      <th>4</th>\n",
       "      <td>10411</td>\n",
       "      <td>5.200078</td>\n",
       "    </tr>\n",
       "    <tr>\n",
       "      <th>...</th>\n",
       "      <td>...</td>\n",
       "      <td>...</td>\n",
       "    </tr>\n",
       "    <tr>\n",
       "      <th>6934</th>\n",
       "      <td>17341</td>\n",
       "      <td>5.851083</td>\n",
       "    </tr>\n",
       "    <tr>\n",
       "      <th>6935</th>\n",
       "      <td>17342</td>\n",
       "      <td>4.096653</td>\n",
       "    </tr>\n",
       "    <tr>\n",
       "      <th>6936</th>\n",
       "      <td>17343</td>\n",
       "      <td>5.153753</td>\n",
       "    </tr>\n",
       "    <tr>\n",
       "      <th>6937</th>\n",
       "      <td>17344</td>\n",
       "      <td>4.579944</td>\n",
       "    </tr>\n",
       "    <tr>\n",
       "      <th>6938</th>\n",
       "      <td>17345</td>\n",
       "      <td>2.813589</td>\n",
       "    </tr>\n",
       "  </tbody>\n",
       "</table>\n",
       "<p>6939 rows × 2 columns</p>\n",
       "</div>"
      ],
      "text/plain": [
       "         id  Hardness\n",
       "0     10407  2.713400\n",
       "1     10408  2.706321\n",
       "2     10409  5.771029\n",
       "3     10410  4.228532\n",
       "4     10411  5.200078\n",
       "...     ...       ...\n",
       "6934  17341  5.851083\n",
       "6935  17342  4.096653\n",
       "6936  17343  5.153753\n",
       "6937  17344  4.579944\n",
       "6938  17345  2.813589\n",
       "\n",
       "[6939 rows x 2 columns]"
      ]
     },
     "execution_count": 31,
     "metadata": {},
     "output_type": "execute_result"
    }
   ],
   "source": [
    "submission"
   ]
  }
 ],
 "metadata": {
  "kaggle": {
   "accelerator": "tpu1vmV38",
   "dataSources": [
    {
     "databundleVersionId": 6989718,
     "sourceId": 60892,
     "sourceType": "competition"
    }
   ],
   "dockerImageVersionId": 30587,
   "isGpuEnabled": false,
   "isInternetEnabled": true,
   "language": "python",
   "sourceType": "notebook"
  },
  "kernelspec": {
   "display_name": "Python 3",
   "language": "python",
   "name": "python3"
  },
  "language_info": {
   "codemirror_mode": {
    "name": "ipython",
    "version": 3
   },
   "file_extension": ".py",
   "mimetype": "text/x-python",
   "name": "python",
   "nbconvert_exporter": "python",
   "pygments_lexer": "ipython3",
   "version": "3.10.13"
  },
  "papermill": {
   "default_parameters": {},
   "duration": 726.359547,
   "end_time": "2023-11-30T06:58:45.935049",
   "environment_variables": {},
   "exception": null,
   "input_path": "__notebook__.ipynb",
   "output_path": "__notebook__.ipynb",
   "parameters": {},
   "start_time": "2023-11-30T06:46:39.575502",
   "version": "2.5.0"
  }
 },
 "nbformat": 4,
 "nbformat_minor": 5
}
